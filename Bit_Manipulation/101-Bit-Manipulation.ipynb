{
 "cells": [
  {
   "cell_type": "markdown",
   "id": "98bb3361",
   "metadata": {},
   "source": [
    "## 1. AND"
   ]
  },
  {
   "cell_type": "markdown",
   "id": "cdaf57a5",
   "metadata": {},
   "source": [
    "### Concepts"
   ]
  },
  {
   "cell_type": "code",
   "execution_count": 1,
   "id": "9bb7bb03",
   "metadata": {},
   "outputs": [],
   "source": [
    "\"\"\"\n",
    "**Truth table**\n",
    "+-------------+\n",
    "|  0   0  = 0 |\n",
    "|  0   1  = 0 |\n",
    "|  1   0  = 0 |\n",
    "|  1   1  = 1 |\n",
    "+-------------+\n",
    "\n",
    "Common Use Cases:\n",
    "1. Extract or isolate specific bits.\n",
    "2. Common bits between tow number.\n",
    "3. Flag Checking\n",
    "    Example: Store multiple boolean flags in one integer\n",
    "        read=1, write=2, execute=4\n",
    "        permissions = 5 (0b101 = read + execute)\n",
    "        permissions & 2 → 0 → write not allowed\n",
    "        permissions & 1 → 1 → read allowed\n",
    "4. Combining Masks\n",
    "    Example: Select multiple bits using a mask\n",
    "        mask = 0b1100, n = 13 (0b1101)\n",
    "        n & mask = 0b1100 → keeps only bits at positions 2-3\n",
    "\"\"\"\n",
    "\n",
    "pass"
   ]
  },
  {
   "cell_type": "markdown",
   "id": "a1d56e2a",
   "metadata": {},
   "source": [
    "### 1.1 Even-Odd number check"
   ]
  },
  {
   "cell_type": "code",
   "execution_count": 2,
   "id": "72ffb8a9",
   "metadata": {},
   "outputs": [
    {
     "name": "stdout",
     "output_type": "stream",
     "text": [
      "12 is Even\n",
      "15 is Odd\n"
     ]
    }
   ],
   "source": [
    "def even_odd(n: int):\n",
    "    \"\"\"\n",
    "    Determine whether a number is even or odd using its Least Significant Bit (LSB).\n",
    "\n",
    "    Logic:\n",
    "        - If the LSB is 0 → the number is Even.\n",
    "        - If the LSB is 1 → the number is Odd.\n",
    "        - LSB can be checked using: n & 1\n",
    "\n",
    "    Example:\n",
    "        case 1: n = 12\n",
    "            12  =>  1100\n",
    "            1   =>  0001\n",
    "            -------------\n",
    "            0   => 0000 → Even\n",
    "\n",
    "        case 2: n = 9\n",
    "            9   =>  1001\n",
    "            1   =>  0001\n",
    "            -------------\n",
    "            1   => 0001 → Odd\n",
    "    \"\"\"\n",
    "    if n & 1:  # n % 2 != 0\n",
    "        print(f\"{n} is Odd\")\n",
    "    else:\n",
    "        print(f\"{n} is Even\")\n",
    "\n",
    "\n",
    "even_odd(12)\n",
    "even_odd(15)"
   ]
  },
  {
   "cell_type": "markdown",
   "id": "ce60f021",
   "metadata": {},
   "source": [
    "### 1.2 Check if a Number is a Power of 2"
   ]
  },
  {
   "cell_type": "code",
   "execution_count": 3,
   "id": "7586f348",
   "metadata": {},
   "outputs": [
    {
     "data": {
      "text/plain": [
       "True"
      ]
     },
     "execution_count": 3,
     "metadata": {},
     "output_type": "execute_result"
    }
   ],
   "source": [
    "def is_power_of_two(n: int) -> bool:\n",
    "    \"\"\"\n",
    "    Check if a number is a power of two using bitwise AND.\n",
    "\n",
    "    Logic:\n",
    "        If n & (n - 1) == 0, then n is a power of 2.\n",
    "\n",
    "    Example:\n",
    "        Case 1: n = 8\n",
    "            8  => 1000\n",
    "            7  => 0111\n",
    "            ------------\n",
    "            8&7 => 0000  → Power of 2 ✅\n",
    "\n",
    "        Case 2: n = 10\n",
    "            10 => 1010\n",
    "            9  => 1001\n",
    "            ------------\n",
    "            10&9 => 1000 → (Non-Zero) Not power of 2 ❌\n",
    "\n",
    "    Note:\n",
    "        Edge case: n <= 0 is not a power of 2.\n",
    "    \"\"\"\n",
    "\n",
    "    if n <= 0:\n",
    "        return False\n",
    "    else:\n",
    "        return n & (n - 1) == 0\n",
    "\n",
    "\n",
    "is_power_of_two(16)"
   ]
  },
  {
   "cell_type": "markdown",
   "id": "bf47d992",
   "metadata": {},
   "source": [
    "### 1.3 Count Set Bits (Population Count)"
   ]
  },
  {
   "cell_type": "code",
   "execution_count": 4,
   "id": "3ef0dc31",
   "metadata": {},
   "outputs": [
    {
     "data": {
      "text/plain": [
       "4"
      ]
     },
     "execution_count": 4,
     "metadata": {},
     "output_type": "execute_result"
    }
   ],
   "source": [
    "def bit_count(n: int) -> int:\n",
    "    \"\"\"\n",
    "    Time : O(k), where k is the number of set bits\n",
    "    Space: O(1)\n",
    "\n",
    "    Logic:\n",
    "        - Repeatedly remove the rightmost set bit using n = n & (n-1) until n becomes 0.\n",
    "        - Each operation reduces the number of set bits by 1.\n",
    "\n",
    "    Example:\n",
    "        n = 10 (1010 in binary)\n",
    "\n",
    "        1st iteration:\n",
    "            10  =  1010\n",
    "            9   =  1001\n",
    "            -----------\n",
    "            8   =  1000\n",
    "\n",
    "        2nd iteration:\n",
    "            8 = 1000\n",
    "            7 = 0111\n",
    "            --------\n",
    "            0 = 0000\n",
    "\n",
    "    Remarks:\n",
    "        - Brian Kernighan's algorithm.\n",
    "    \"\"\"\n",
    "    count = 0\n",
    "    while n:\n",
    "        n = n & (n - 1)\n",
    "        count += 1\n",
    "\n",
    "    return count\n",
    "\n",
    "\n",
    "bit_count(15)"
   ]
  },
  {
   "cell_type": "markdown",
   "id": "9ee4e772",
   "metadata": {},
   "source": [
    "### 1.4 isolate Rightmost Set Bit"
   ]
  },
  {
   "cell_type": "code",
   "execution_count": 5,
   "id": "8a41f9a4",
   "metadata": {},
   "outputs": [
    {
     "name": "stdout",
     "output_type": "stream",
     "text": [
      "00000100\n"
     ]
    }
   ],
   "source": [
    "def isolate_right_setBit(n: int) -> int:\n",
    "    \"\"\"\n",
    "    Isolate the rightmost set bit of an integer using AND: **n & -n**.\n",
    "\n",
    "    Remarks:\n",
    "        This works because the two's complement of n flips all bits and adds 1,\n",
    "        leaving only the rightmost set bit in common; all bits to the right of this set bit become 0, and bits to the left are flipped.\n",
    "\n",
    "    Example:\n",
    "        n  = 00100100 (36)\n",
    "        -n = 11011100 (-36 in 2's complement)\n",
    "        ------------------------\n",
    "        n & -n = 00000100 (4)\n",
    "    \"\"\"\n",
    "    return n & -n\n",
    "\n",
    "\n",
    "res = isolate_right_setBit(36)\n",
    "print(format(res, \"08b\"))  # Output: 00000100"
   ]
  },
  {
   "cell_type": "markdown",
   "id": "7b5ff79f",
   "metadata": {},
   "source": [
    "## 2. OR"
   ]
  },
  {
   "cell_type": "code",
   "execution_count": null,
   "id": "209f538f",
   "metadata": {},
   "outputs": [],
   "source": []
  },
  {
   "cell_type": "markdown",
   "id": "0690c88a",
   "metadata": {},
   "source": [
    "## 3. XOR"
   ]
  },
  {
   "cell_type": "markdown",
   "id": "eabef583",
   "metadata": {},
   "source": [
    "### Concepts"
   ]
  },
  {
   "cell_type": "code",
   "execution_count": 6,
   "id": "c1132dc1",
   "metadata": {},
   "outputs": [],
   "source": [
    "\"\"\"\n",
    "**Truth table**\n",
    "+-------------+\n",
    "|  0   0  = 0 |\n",
    "|  0   1  = 1 |\n",
    "|  1   0  = 1 |\n",
    "|  1   1  = 0 |\n",
    "+-------------+\n",
    "\n",
    "Bits are Same      => 0\n",
    "Bits are Different => 1\n",
    "\n",
    "\n",
    "XOR (Exclusive OR) Properties\n",
    "-----------------------------\n",
    "\n",
    "1. Identity Property:\n",
    "   a ^ 0 = a\n",
    "   Explanation: XOR with 0 leaves the number unchanged.\n",
    "\n",
    "2. Self-Inverse Property:\n",
    "   a ^ a = 0\n",
    "   Explanation: Any number XOR with itself is always 0.\n",
    "\n",
    "3. Commutative Property:\n",
    "   a ^ b = b ^ a\n",
    "   Explanation: The order of operands does not matter.\n",
    "\n",
    "4. Associative Property:\n",
    "   (a ^ b) ^ c = a ^ (b ^ c)\n",
    "   Explanation: Grouping of operands does not affect the result.\n",
    "\n",
    "5. Inverse Property (based on self-inverse):\n",
    "   If a ^ b = c, then a = b ^ c and b = a ^ c\n",
    "   Explanation: XOR can be used to \"undo\" itself.\n",
    "\n",
    "6. Zero Result Property:\n",
    "   If a ^ b = 0, then a = b\n",
    "   Explanation: XOR of two equal numbers is always zero.\n",
    "\n",
    "7. Toggle Property:\n",
    "   a ^ 1 flips the least significant bit (LSB) of a\n",
    "   Explanation: XOR with 1 toggles bits, useful for bit-flipping.\n",
    "\n",
    "8. Bit Count:\n",
    "   XOR does not carry bits (unlike addition).\n",
    "   Explanation: It only sets bits where inputs differ.\n",
    "\n",
    "9. XOR of all numbers from 1 to n:\n",
    "   1 ^ 2 ^ 3 ^ ... ^ n = pattern based on n % 4\n",
    "   Explanation: Used in mathematical and algorithmic optimizations.\n",
    "\n",
    "\"\"\"\n",
    "\n",
    "pass"
   ]
  },
  {
   "cell_type": "markdown",
   "id": "570ae336",
   "metadata": {},
   "source": [
    "### 3.1 Find Common and different bits in 2 number"
   ]
  },
  {
   "cell_type": "code",
   "execution_count": 7,
   "id": "e852356b",
   "metadata": {},
   "outputs": [
    {
     "name": "stdout",
     "output_type": "stream",
     "text": [
      "bin(a)= '0b1101'\n",
      "bin(b)= '0b1001'\n",
      "\n",
      "Bit difference (XOR):     0b100\n",
      "Common set bits (AND):    0b1001\n",
      "Same bit positions:       0b1011\n"
     ]
    }
   ],
   "source": [
    "\"\"\"\n",
    "1. **Bit Difference (XOR)**: a ^ b\n",
    "    a = 1101 (13)\n",
    "    b = 1001 (9)\n",
    "    --------\n",
    "    ^ = 0100 (4)\n",
    "\n",
    "2. **Common set bits (AND)**: a & b\n",
    "    a = 1101 (13)\n",
    "    b = 1001 (9)\n",
    "    --------\n",
    "    & = 1001 (9)\n",
    "\n",
    "3. **All common bits (including common zeros)**: ~(a ^ b)\n",
    "    a = 1101 (13)\n",
    "    b = 1001 (9)\n",
    "    --------\n",
    "    ^ = 0100 (4)\n",
    "    ~ = ...1111011 (-5 in Python, but masked: 1011)\n",
    "\n",
    "Notes:\n",
    "    - We usually consider **Set bits** as bits having value 1\n",
    "    - XOR (^) finds positions where bits differ\n",
    "    - AND (&) finds positions where both bits are 1\n",
    "    - ~(a^b) finds positions where bits are identical (same value)\n",
    "    - Use a mask (e.g., & 0xF) to restrict to relevant bit-width.\n",
    "\"\"\"\n",
    "\n",
    "a = 13\n",
    "b = 9\n",
    "print(f\"{bin(a)= }\\n{bin(b)= }\", end=\"\\n\\n\")\n",
    "print(\"Bit difference (XOR):    \", bin(a ^ b))\n",
    "print(\"Common set bits (AND):   \", bin(a & b))\n",
    "print(\"Same bit positions:      \", bin(~(a ^ b) & 0xF))  # 0xF masks to 4 bits"
   ]
  },
  {
   "cell_type": "markdown",
   "id": "0fe8cda0",
   "metadata": {},
   "source": [
    "### 3.2 swap variables "
   ]
  },
  {
   "cell_type": "code",
   "execution_count": 8,
   "id": "3a60948e",
   "metadata": {},
   "outputs": [
    {
     "name": "stdout",
     "output_type": "stream",
     "text": [
      "Before a=10  b=20\n",
      "After  a=20  b=10\n"
     ]
    }
   ],
   "source": [
    "a, b = 10, 20\n",
    "print(f\"Before {a=}  {b=}\")\n",
    "a = a ^ b\n",
    "b = a ^ b  # (a^b)^b => a^0 => a\n",
    "a = a ^ b  # (a^b)^a => b^0 => b\n",
    "print(f\"After  {a=}  {b=}\")"
   ]
  },
  {
   "cell_type": "markdown",
   "id": "25d3f869",
   "metadata": {},
   "source": [
    "### 3.3 Toggle between two numbers"
   ]
  },
  {
   "cell_type": "code",
   "execution_count": 9,
   "id": "f2424595",
   "metadata": {},
   "outputs": [
    {
     "name": "stdout",
     "output_type": "stream",
     "text": [
      "5\n",
      "10\n"
     ]
    }
   ],
   "source": [
    "def toggle_num(n: int, a=5, b=10) -> int:\n",
    "    \"\"\"\n",
    "    Toggle between two numbers using XOR.(return b if n==a else a)\n",
    "\n",
    "    Remarks:\n",
    "        - assume `n` is always either `a` or `b`.\n",
    "\n",
    "    How its Works:\n",
    "        - XOR properties:\n",
    "            x ^ x = 0\n",
    "            x ^ 0 = x\n",
    "        - Using n ^ (a ^ b):\n",
    "            - If n = a;   a ^ (a ^ b) = b\n",
    "            - If n = b;   b ^ (a ^ b) = a\n",
    "    \"\"\"\n",
    "    return n ^ a ^ b\n",
    "\n",
    "\n",
    "print(toggle_num(10))  # 5\n",
    "print(toggle_num(5))  # 10"
   ]
  },
  {
   "cell_type": "markdown",
   "id": "55da1c31",
   "metadata": {},
   "source": [
    "### 3.4 isolate Rightmost Set Bit"
   ]
  },
  {
   "cell_type": "code",
   "execution_count": 10,
   "id": "8d952285",
   "metadata": {},
   "outputs": [
    {
     "name": "stdout",
     "output_type": "stream",
     "text": [
      "00000100\n"
     ]
    }
   ],
   "source": [
    "def isolate_right_setBit(n: int) -> int:\n",
    "    \"\"\"\n",
    "    Isolate the rightmost set bit of an integer using `AND+XOR`: (n & n-1) ^ n\n",
    "\n",
    "    How it works:\n",
    "        - The operation `n & (n-1)` clears the rightmost set bit of `n`.\n",
    "        - XOR-ing this result with the original `n` isolates the rightmost set bit, leaving all other bits as zero.\n",
    "\n",
    "    Example:\n",
    "        n      = 100100 (36)\n",
    "        n - 1  = 100011 (35)\n",
    "        ---------------------\n",
    "        n & n-1 = 100000 (32)\n",
    "        n       = 100100 (36)\n",
    "        ---------------------\n",
    "        XOR     = 000100 (4)\n",
    "    \"\"\"\n",
    "    return (n & (n - 1)) ^ n\n",
    "\n",
    "\n",
    "res = isolate_right_setBit(36)\n",
    "print(format(res, \"08b\"))  # Output: 00000100"
   ]
  },
  {
   "cell_type": "markdown",
   "id": "b4c3c41e",
   "metadata": {},
   "source": [
    "### 3.5 Single number LeetCode: 136"
   ]
  },
  {
   "cell_type": "code",
   "execution_count": 11,
   "id": "0bf5c53e",
   "metadata": {},
   "outputs": [
    {
     "data": {
      "text/plain": [
       "4"
      ]
     },
     "execution_count": 11,
     "metadata": {},
     "output_type": "execute_result"
    }
   ],
   "source": [
    "def single_number(nums: list) -> int:\n",
    "    \"\"\"\n",
    "    Find the unique element in an integer array where every other element appears twice.\n",
    "    XOR Properties Used:\n",
    "        1. a ^ a = 0       → a number XORed with itself cancels out.\n",
    "        2. a ^ 0 = a       → a number XORed with 0 remains unchanged.\n",
    "        3. Commutative     → a ^ b = b ^ a (order doesn't matter).\n",
    "        4. Associative     → (a ^ b) ^ c = a ^ (b ^ c) (grouping doesn't matter).\n",
    "\n",
    "    How It Works:\n",
    "        - All duplicate numbers cancel each other due to a ^ a = 0.\n",
    "        - Only the unique number remains after XORing the entire array.\n",
    "    \"\"\"\n",
    "    answer = 0\n",
    "    for n in nums:\n",
    "        answer ^= n\n",
    "\n",
    "    return answer\n",
    "\n",
    "\n",
    "single_number([4, 1, 2, 1, 2])  # Output: 4"
   ]
  },
  {
   "cell_type": "markdown",
   "id": "28400484",
   "metadata": {},
   "source": [
    "## 4. NOT"
   ]
  },
  {
   "cell_type": "code",
   "execution_count": null,
   "id": "0b5c209c",
   "metadata": {},
   "outputs": [],
   "source": []
  },
  {
   "cell_type": "markdown",
   "id": "5fe2682b",
   "metadata": {},
   "source": [
    "## 5. Left Shift and Right Shift"
   ]
  },
  {
   "cell_type": "markdown",
   "id": "b25b4cde",
   "metadata": {},
   "source": [
    "### Concepts"
   ]
  },
  {
   "cell_type": "code",
   "execution_count": 12,
   "id": "9544c48b",
   "metadata": {},
   "outputs": [],
   "source": [
    "\"\"\"\n",
    "+-------------------------+\n",
    "|  Left Shift ( a << n )  |\n",
    "+-------------------------+\n",
    "\n",
    "- Operation: Shifts all bits of `a` to the left by `n` positions.\n",
    "- Formula: a << n = a × 2ⁿ\n",
    "- Effect: Each left shift multiplies the number by 2ⁿ.\n",
    "- Example:\n",
    "  - 5 (0101) << 1 = 10 (1010)\n",
    "  - 3 (0011) << 2 = 12 (1100)\n",
    "\n",
    "Properties:\n",
    "------------\n",
    "1. a << 0 = a\n",
    "   Shifting by 0 leaves the number unchanged.\n",
    "\n",
    "2. a << 1 = a × 2\n",
    "   One left shift is equivalent to multiplying by 2.\n",
    "\n",
    "3. a << n = a × (2ⁿ)\n",
    "   General multiplication property.\n",
    "\n",
    "4. **Fixed-width integers**: bits shifted beyond the MSB are discarded.\n",
    "   Example (8-bit system): (240 << 1) → 224.\n",
    "   **Python**: no discard, number grows arbitrarily.\n",
    "\n",
    "\n",
    "\n",
    "+--------------------------+\n",
    "|  Right Shift ( a >> n )  |\n",
    "+--------------------------+\n",
    "\n",
    "- Operation: Shifts all bits of `a` to the right by `n` positions.\n",
    "- Formula: a >> n = a ÷ 2ⁿ (integer division)\n",
    "- Effect: Each right shift divides the number by 2ⁿ (floor).\n",
    "- Example:\n",
    "  - 10 (1010) >> 1 = 5 (0101)\n",
    "  - 20 (10100) >> 2 = 5 (00101)\n",
    "\n",
    "Properties:\n",
    "------------\n",
    "1. a >> 0 = a\n",
    "   Shifting by 0 leaves the number unchanged.\n",
    "\n",
    "2. a >> 1 = a ÷ 2\n",
    "   One right shift is equivalent to integer division by 2.\n",
    "\n",
    "3. a >> n = a ÷ (2ⁿ)\n",
    "   General division property.\n",
    "\n",
    "4. Bits shifted beyond the LSB are discarded.\n",
    "   Example: (9 >> 3) = 1 (since 1001 >> 3 → 0001).\n",
    "\n",
    "\n",
    "\n",
    "⚠️ Note on Shift Behavior\n",
    "-------------------------\n",
    "\n",
    "**Unsigned integers**\n",
    "  - `a << n` → multiplies by 2ⁿ\n",
    "  - `a >> n` → divides by 2ⁿ (floor division)\n",
    "\n",
    "**Signed integers (language-dependent)**\n",
    "  - **Arithmetic right shift** → preserves sign bit (negative stays negative)\n",
    "  - **Logical right shift** → fills leftmost bits with 0 (treats number as unsigned)\n",
    "\n",
    "**Python**\n",
    "  - Left shift (`<<`) → unlimited growth, no overflow\n",
    "  - Right shift (`>>`) → always arithmetic shift (preserves sign bit, equivalent to `a // (2**n)`)\n",
    "\"\"\"\n",
    "\n",
    "pass"
   ]
  },
  {
   "cell_type": "code",
   "execution_count": 13,
   "id": "53c1cd3c",
   "metadata": {},
   "outputs": [
    {
     "data": {
      "text/plain": [
       "-8"
      ]
     },
     "execution_count": 13,
     "metadata": {},
     "output_type": "execute_result"
    }
   ],
   "source": [
    "a = -32\n",
    "a >> 2"
   ]
  },
  {
   "cell_type": "markdown",
   "id": "5c500ec8",
   "metadata": {},
   "source": [
    "### 5.1 Playing with K-th Bit: Check, Toggle, Set, Clear"
   ]
  },
  {
   "cell_type": "code",
   "execution_count": 14,
   "id": "3ccece97",
   "metadata": {},
   "outputs": [
    {
     "name": "stdout",
     "output_type": "stream",
     "text": [
      "N             : 100100 (36)\n",
      "K             : 2\n",
      "Is Set Bit?   : True\n",
      "Toggle Bit    : 32 (bin: 100000)\n",
      "Set Bit       : 36 (bin: 100100)\n",
      "Unset Bit     : 32 (bin: 100000)\n"
     ]
    }
   ],
   "source": [
    "def is_kth_setBit(n: int, k: int) -> bool:\n",
    "    \"\"\"\n",
    "    Check if the k-th of number is `1` or not.\n",
    "\n",
    "    Example:\n",
    "        n = 36, k = 2\n",
    "        n     = 100100\n",
    "        1<<2  = 000100\n",
    "        --------------\n",
    "        &     = 000100  => True\n",
    "    \"\"\"\n",
    "    return (n & (1 << k)) != 0\n",
    "\n",
    "\n",
    "def toggle_kth_bit(n: int, k: int) -> int:\n",
    "    \"\"\"\n",
    "    Toggle the k-th bit of a given number\n",
    "\n",
    "    Example:\n",
    "        n = 36, k = 2\n",
    "        n     = 100100\n",
    "        1<<2  = 000100\n",
    "        --------------\n",
    "        ^     = 100000  => 32\n",
    "    \"\"\"\n",
    "\n",
    "    return n ^ (1 << k)\n",
    "\n",
    "\n",
    "def set_kth_bit(n: int, k: int) -> int:\n",
    "    \"\"\"\n",
    "    Set the k-th bit of a number to 1.\n",
    "\n",
    "    Example:\n",
    "        n = 36, k = 1\n",
    "        n     = 100100\n",
    "        1<<1  = 000010\n",
    "        ---------------\n",
    "        |     = 100110  => 38\n",
    "    \"\"\"\n",
    "    return n | (1 << k)\n",
    "\n",
    "\n",
    "def unset_kth_bit(n: int, k: int) -> int:\n",
    "    \"\"\"\n",
    "    Clear the k-th bit of a number.\n",
    "\n",
    "    Example:\n",
    "        n = 36, k = 2\n",
    "        n       = 100100\n",
    "        ~(1<<2) = 111011\n",
    "        ----------------\n",
    "        &       = 100000  => 32\n",
    "    \"\"\"\n",
    "    return n & ~(1 << k)\n",
    "\n",
    "\n",
    "n = 36\n",
    "k = 2\n",
    "\n",
    "print(f\"N             : {bin(n)[2:]} ({n})\")\n",
    "print(f\"K             : {k}\")\n",
    "print(f\"Is Set Bit?   : {is_kth_setBit(n, k)}\")\n",
    "print(f\"Toggle Bit    : {toggle_kth_bit(n, k)} (bin: {bin(toggle_kth_bit(n, k))[2:]})\")\n",
    "print(f\"Set Bit       : {set_kth_bit(n, k)} (bin: {bin(set_kth_bit(n, k))[2:]})\")\n",
    "print(f\"Unset Bit     : {unset_kth_bit(n, k)} (bin: {bin(unset_kth_bit(n, k))[2:]})\")"
   ]
  },
  {
   "cell_type": "markdown",
   "id": "9c1e3983",
   "metadata": {},
   "source": [
    "### 5.2 Count number of set bits"
   ]
  },
  {
   "cell_type": "code",
   "execution_count": 15,
   "id": "73b5f97f",
   "metadata": {},
   "outputs": [
    {
     "data": {
      "text/plain": [
       "4"
      ]
     },
     "execution_count": 15,
     "metadata": {},
     "output_type": "execute_result"
    }
   ],
   "source": [
    "def count_set_bits(x: int) -> int:\n",
    "    \"\"\"\n",
    "    Time: O(n) n = no. of bits in the binary digit\n",
    "    Remarks:\n",
    "        - Use Kernighan's algorithm: n = n & n-1\n",
    "    \"\"\"\n",
    "    count = 0\n",
    "    while x:\n",
    "        if x & 1:\n",
    "            count += 1\n",
    "        x = x >> 1  # right shifted\n",
    "\n",
    "    return count\n",
    "\n",
    "\n",
    "count_set_bits(int(\"10011001\", 2))"
   ]
  },
  {
   "cell_type": "markdown",
   "id": "c9f403f0",
   "metadata": {},
   "source": [
    "### New Problem"
   ]
  },
  {
   "cell_type": "code",
   "execution_count": null,
   "id": "0fcba21c",
   "metadata": {},
   "outputs": [],
   "source": []
  },
  {
   "cell_type": "markdown",
   "id": "bee1d6a7",
   "metadata": {},
   "source": [
    "## Other Important Properties"
   ]
  },
  {
   "cell_type": "markdown",
   "id": "bd3c98a0",
   "metadata": {},
   "source": [
    "### Bitwise Arithmetic Relations\n",
    "- a + b = (a ^ b) + 2(a & b)\n",
    "- a + b = (a | b) + (a & b)"
   ]
  },
  {
   "cell_type": "code",
   "execution_count": null,
   "id": "9d7e0dd3",
   "metadata": {},
   "outputs": [],
   "source": []
  },
  {
   "cell_type": "markdown",
   "id": "04def686",
   "metadata": {},
   "source": [
    "### XOR's Parity Property\n",
    "- Let `x = set bits in a`  \n",
    "- Let `y = set bits in b`  \n",
    "- Let `z = set bits in (a ^ b)`  \n",
    "\n",
    "**Then:**\n",
    "- `z` is Even if `x+y` is Even\n",
    "- `z` is Odd if `x+y` is Odd\n"
   ]
  },
  {
   "cell_type": "code",
   "execution_count": null,
   "id": "a66228b1",
   "metadata": {},
   "outputs": [],
   "source": []
  }
 ],
 "metadata": {
  "kernelspec": {
   "display_name": ".venv",
   "language": "python",
   "name": "python3"
  },
  "language_info": {
   "codemirror_mode": {
    "name": "ipython",
    "version": 3
   },
   "file_extension": ".py",
   "mimetype": "text/x-python",
   "name": "python",
   "nbconvert_exporter": "python",
   "pygments_lexer": "ipython3",
   "version": "3.10.12"
  }
 },
 "nbformat": 4,
 "nbformat_minor": 5
}
