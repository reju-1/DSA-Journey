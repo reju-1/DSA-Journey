{
 "cells": [
  {
   "cell_type": "markdown",
   "metadata": {},
   "source": [
    "## Introduction to Tree Data Structure"
   ]
  },
  {
   "cell_type": "markdown",
   "metadata": {},
   "source": [
    "### Tree"
   ]
  },
  {
   "cell_type": "code",
   "execution_count": 1,
   "metadata": {},
   "outputs": [],
   "source": [
    "\"\"\"\n",
    "Tree:\n",
    "    A tree is a nonlinear hierarchical data structure that consists of nodes connected by edges.\n",
    "    It is a special type of graph that has no cycles.\n",
    "\n",
    "Tree Representation:\n",
    "    - Arrays: Commonly used for binary heaps and complete binary trees.\n",
    "    - Node base Representation: Each node has pointers to its children.\n",
    "    - Adjacency List: Useful for representing trees with variable numbers of children. Used for N-ary trees and graph-like trees.\n",
    "\"\"\"\n",
    "\n",
    "pass"
   ]
  },
  {
   "cell_type": "markdown",
   "metadata": {},
   "source": [
    "### Common terms"
   ]
  },
  {
   "cell_type": "code",
   "execution_count": 2,
   "metadata": {},
   "outputs": [],
   "source": [
    "\"\"\"\n",
    "Common Terminology:\n",
    "    - Node: An individual element in the tree.\n",
    "    - Root: The topmost node in the tree.\n",
    "    - Parent: A node that has child nodes.\n",
    "    - Child: A node that descends from another node.\n",
    "    - Sibling: Nodes that share the same parent.\n",
    "    - Ancestor: A node that is connected to another node by a sequence of parent-child relationships, moving upward.\n",
    "    - Descendant: A node that is connected to another node by a sequence of child-parent relationships, moving downward.\n",
    "    - Leaf: A node without any children.\n",
    "    - Depth: The number of edges from the root to a given node.\n",
    "    - Height: The number of edges on the longest path from a node to a leaf.\n",
    "    - Level: The depth of a node plus one.\n",
    "\"\"\"\n",
    "\n",
    "pass"
   ]
  },
  {
   "cell_type": "markdown",
   "metadata": {},
   "source": [
    "### Types"
   ]
  },
  {
   "cell_type": "code",
   "execution_count": 3,
   "metadata": {},
   "outputs": [],
   "source": [
    "\"\"\"\n",
    "Types of tree data structures are categorized as follows:\n",
    "\n",
    "Based on Branching Factor:\n",
    "    - Binary Tree: Each node has at most 2 children.\n",
    "    - M-ary Tree: Each node has at most 'm' children.\n",
    "    - Generic Tree: A node can have any number of children (e.g., file systems, organization charts).\n",
    "\n",
    "Based on Shape and Structure:\n",
    "    - Full Binary Tree: Every node has either 0 or 2 children. (e.g., Huffman tree)\n",
    "    - Complete Binary Tree: All levels are filled except possibly the last, which is filled from left to right.(e.g., heap tree)\n",
    "    - Perfect Binary Tree: All internal nodes have 2 children, and all leaves are at the same level.\n",
    "    - Balanced Tree: The height difference between subtrees is minimal for efficiency.\n",
    "    - Degenerate/Pathological/Skewed tree: A tree in which each parent node has only one child, effectively turning it into a linked list.\n",
    "\n",
    "Based on Ordering and Search Properties:\n",
    "    - Binary Search Tree (BST): Left subtree contains smaller values, right subtree contains larger values.\n",
    "    - Balanced BST:\n",
    "        - AVL Tree: Self-balancing BST with height difference at most 1.\n",
    "        - Red-Black Tree: Self-balancing BST with color properties to maintain balance.\n",
    "    - Heap Tree: A complete tree that satisfies the heap property.\n",
    "    - Splay Tree: A self-adjusting BST that moves frequently accessed elements to the root.\n",
    "    - B-Tree & B+ Tree: Self-balancing search trees optimized for database systems.\n",
    "\n",
    "Specialized Purpose Trees:\n",
    "    - Trie (Prefix Tree): Used for storing strings efficiently.\n",
    "    - Segment Tree: Used for range queries and updates in logarithmic time.\n",
    "    - KD-Tree (K-Dimensional Tree): Used for multi-dimensional search applications.\n",
    "    - Quad Tree: 2D space partitioning\n",
    "    - Octree: 3D space partitioning\n",
    "\n",
    "Honorable Mentions:\n",
    "    - Decision Tree: Used in machine learning for classification and decision-making.\n",
    "    - Treap: A randomized BST combining heap and BST properties.\n",
    "    - Parse Tree: Represents the syntactic structure of expressions or code.\n",
    "\n",
    "***This repository will only cover Binary trees, BSTs, AVL trees, and Tries.***\n",
    "\"\"\"\n",
    "\n",
    "pass"
   ]
  },
  {
   "cell_type": "markdown",
   "metadata": {},
   "source": [
    "## Tree constructions"
   ]
  },
  {
   "cell_type": "code",
   "execution_count": 4,
   "metadata": {},
   "outputs": [
    {
     "data": {
      "text/plain": [
       "10"
      ]
     },
     "execution_count": 4,
     "metadata": {},
     "output_type": "execute_result"
    }
   ],
   "source": [
    "class TreeNode:\n",
    "    def __init__(self, val, left=None, right=None):\n",
    "        self.val = val\n",
    "        self.left = left\n",
    "        self.right = right\n",
    "\n",
    "    def __repr__(self):\n",
    "        return str(self.val)\n",
    "\n",
    "\n",
    "# Creating the binary tree structure\n",
    "root = TreeNode(10)\n",
    "root.left = TreeNode(5, left=TreeNode(1), right=TreeNode(8))\n",
    "root.right = TreeNode(15, left=TreeNode(12), right=TreeNode(20))\n",
    "\n",
    "\"\"\"\n",
    "Binary Tree Structure:\n",
    "       10\n",
    "     /    \\\n",
    "    5     15\n",
    "   / \\    / \\\n",
    "  1   8  12  20\n",
    "\"\"\"\n",
    "\n",
    "root"
   ]
  },
  {
   "cell_type": "code",
   "execution_count": 5,
   "metadata": {},
   "outputs": [
    {
     "data": {
      "text/plain": [
       "5"
      ]
     },
     "execution_count": 5,
     "metadata": {},
     "output_type": "execute_result"
    }
   ],
   "source": [
    "\"\"\"\n",
    "Building a binary tree from a pre-order sequence with `None` markers.\n",
    "\n",
    "Note:\n",
    "    - A binary tree cannot be uniquely reconstructed using only a single traversal (pre-order, in-order, or post-order)\n",
    "      because we cannot determine the left and right subtree boundaries from one sequence alone.\n",
    "    - However, in this case, it is possible because the given pre-order traversal includes `None` values,\n",
    "      which explicitly mark the end of subtrees, allowing us to reconstruct the tree structure correctly.\n",
    "\"\"\"\n",
    "\n",
    "\n",
    "class BinaryTree:\n",
    "    class Node:\n",
    "        def __init__(self, val: int, left=None, right=None):\n",
    "            self.val = val\n",
    "            self.left = left\n",
    "            self.right = right\n",
    "\n",
    "        def __repr__(self):\n",
    "            return str(self.val)\n",
    "\n",
    "    def __init__(self, sequence):\n",
    "        self._index = -1\n",
    "        self.root = self.create_tree(sequence)\n",
    "\n",
    "    def create_tree(self, sequence: list[int]):\n",
    "        self._index += 1\n",
    "        if sequence[self._index] == None:\n",
    "            return None\n",
    "\n",
    "        newNode = BinaryTree.Node(sequence[self._index])\n",
    "        newNode.left = self.create_tree(sequence)\n",
    "        newNode.right = self.create_tree(sequence)\n",
    "\n",
    "        return newNode\n",
    "\n",
    "\n",
    "pre_order = [5, 3, 1, None, None, 4, None, None, 10, None, 14, None, None]\n",
    "tree = BinaryTree(pre_order)\n",
    "\"\"\"\n",
    "Binary Tree Structure:\n",
    "        5\n",
    "       / \\\n",
    "      3   10\n",
    "     / \\    \\\n",
    "    1   4    14\n",
    "\"\"\"\n",
    "tree.root"
   ]
  },
  {
   "cell_type": "markdown",
   "metadata": {},
   "source": [
    "## Traversal technique"
   ]
  },
  {
   "cell_type": "code",
   "execution_count": 6,
   "metadata": {},
   "outputs": [],
   "source": [
    "\"\"\"\n",
    "Binary Tree Traversal Techniques\n",
    "\n",
    "Traversal Methods:\n",
    "    1. DFS (Depth-First Search):\n",
    "        - Pre-Order Traversal: Root -> Left -> Right\n",
    "        - In-Order Traversal: Left -> Root -> Right\n",
    "        - Post-Order Traversal: Left -> Right -> Root\n",
    "\n",
    "    2. BFS (Breadth-First Search):\n",
    "        - Level-Order Traversal: Nodes are visited level by level.\n",
    "\n",
    "Time Complexity for All Traversals: O(N)\n",
    "\n",
    "Space Complexity:\n",
    "    1. DFS:\n",
    "        - Best Case: O(h) or O(log N), where h is the height of the tree (balanced tree).\n",
    "        - Worst Case: O(N), for a completely skewed tree (linked-list-like structure).\n",
    "\n",
    "    2. BFS: O(W), where W is the maximum width of the binary tree\n",
    "        - Best Case: O(1), when the tree is skewed (degenerate tree), holding only one node per level\n",
    "        - Worst Case: O(N/2) ≈ O(N), when the tree is a perfect binary tree, with the last level holding ~N/2 nodes\n",
    "\n",
    "\n",
    "DFS vs BFS:\n",
    "    - DFS explores as deep as possible before backtracking, while BFS explores nodes level by level.\n",
    "    - DFS is more memory efficient for balanced trees (O(log N)), while BFS can take O(N) space.\n",
    "    - BFS is useful for finding the shortest path in an unweighted graph, while DFS is better for problems like cycle detection and topological sorting.\n",
    "    - DFS can be implemented using recursion or a stack, whereas BFS uses a queue.\n",
    "\"\"\"\n",
    "\n",
    "pass"
   ]
  },
  {
   "cell_type": "markdown",
   "metadata": {},
   "source": [
    "## DFS traversal technique"
   ]
  },
  {
   "cell_type": "code",
   "execution_count": 7,
   "metadata": {},
   "outputs": [
    {
     "name": "stdout",
     "output_type": "stream",
     "text": [
      "Pre-Order: \n",
      "5 3 1 4 10 14 \n",
      "In-Order: \n",
      "1 3 4 5 10 14 \n",
      "Post-Order: \n",
      "1 4 3 14 10 5 "
     ]
    }
   ],
   "source": [
    "def in_order(root: TreeNode):\n",
    "    if root is None:\n",
    "        return\n",
    "\n",
    "    in_order(root.left)\n",
    "    print(root.val, end=\" \")\n",
    "    in_order(root.right)\n",
    "\n",
    "\n",
    "def in_order_v2(root: TreeNode) -> list:\n",
    "    result = []\n",
    "\n",
    "    def helper(r: TreeNode):\n",
    "        if r is None:\n",
    "            return\n",
    "        helper(r.left)\n",
    "        result.append(r.val)\n",
    "        helper(r.right)\n",
    "\n",
    "    helper(root)\n",
    "    return result\n",
    "\n",
    "\n",
    "def in_order_v3(root: TreeNode) -> list:\n",
    "    if not root:\n",
    "        return []\n",
    "    return in_order_v3(root.left) + [root.val] + in_order_v3(root.right)\n",
    "\n",
    "\n",
    "def pre_order(root: TreeNode):\n",
    "    if root is None:\n",
    "        return\n",
    "\n",
    "    print(root.val, end=\" \")\n",
    "    pre_order(root.left)\n",
    "    pre_order(root.right)\n",
    "\n",
    "\n",
    "def post_order(root: TreeNode):\n",
    "    if root is None:\n",
    "        return\n",
    "\n",
    "    post_order(root.left)\n",
    "    post_order(root.right)\n",
    "    print(root.val, end=\" \")\n",
    "\n",
    "\n",
    "\"\"\"\n",
    "Binary Tree Structure:\n",
    "        5\n",
    "       / \\\n",
    "      3   10\n",
    "     / \\    \\\n",
    "    1   4    14\n",
    "\"\"\"\n",
    "print(\"Pre-Order: \")\n",
    "pre_order(tree.root)\n",
    "\n",
    "print(\"\\nIn-Order: \")\n",
    "in_order(tree.root)\n",
    "\n",
    "print(\"\\nPost-Order: \")\n",
    "post_order(tree.root)"
   ]
  },
  {
   "cell_type": "markdown",
   "metadata": {},
   "source": [
    "## BFS traversal technique"
   ]
  },
  {
   "cell_type": "code",
   "execution_count": 8,
   "metadata": {},
   "outputs": [
    {
     "name": "stdout",
     "output_type": "stream",
     "text": [
      "10 \n",
      "5 15 \n",
      "1 8 12 20 \n",
      "5 \n",
      "3 10 \n",
      "1 4 14 \n"
     ]
    }
   ],
   "source": [
    "\"\"\"\n",
    "In the context of trees,\n",
    "Level Order Traversal and Breadth-First Search (BFS) are the same.\n",
    "\"\"\"\n",
    "\n",
    "\n",
    "def level_order_v1(root: TreeNode):\n",
    "\n",
    "    if not root:\n",
    "        return\n",
    "    queue = [root]\n",
    "\n",
    "    while queue:\n",
    "        curr_level_size = len(queue)\n",
    "\n",
    "        for _ in range(curr_level_size):  # start of a level\n",
    "            node = queue.pop(0)\n",
    "            print(node.val, end=\" \")  # Process the node (e.g., store, sum, etc.)\n",
    "\n",
    "            if node.left:\n",
    "                queue.append(node.left)\n",
    "            if node.right:\n",
    "                queue.append(node.right)\n",
    "        print()  # end of a level\n",
    "\n",
    "\n",
    "def level_order_v2(root: TreeNode):\n",
    "    \"\"\"Level order traversal without tracking levels\"\"\"\n",
    "    if not root:\n",
    "        return\n",
    "\n",
    "    queue = [root]\n",
    "\n",
    "    while queue:\n",
    "        node = queue.pop(0)  # use deque for O(1) operation\n",
    "        print(node.val, end=\" \")\n",
    "\n",
    "        if node.left:\n",
    "            queue.append(node.left)\n",
    "        if node.right:\n",
    "            queue.append(node.right)\n",
    "\n",
    "\n",
    "def level_order_v3(root: TreeNode):\n",
    "    queue = [root, None]  # `None` is used as a marker to indicate the end of a level.\n",
    "\n",
    "    while queue:\n",
    "        node: TreeNode | None = queue.pop(0)\n",
    "\n",
    "        if node is None:\n",
    "            print()\n",
    "            if queue:  # If Queue is Not empty\n",
    "                queue.append(None)\n",
    "            continue\n",
    "\n",
    "        print(node.val, end=\" \")\n",
    "        if node.left:\n",
    "            queue.append(node.left)\n",
    "        if node.right:\n",
    "            queue.append(node.right)\n",
    "\n",
    "\n",
    "level_order_v1(root)\n",
    "level_order_v3(tree.root)\n",
    "# level_order_v2(root)"
   ]
  },
  {
   "cell_type": "markdown",
   "metadata": {},
   "source": [
    "## Problem Solving"
   ]
  },
  {
   "cell_type": "code",
   "execution_count": 9,
   "metadata": {},
   "outputs": [],
   "source": [
    "\"\"\"\n",
    "Variable `root`:                  Variable `tree.root`:\n",
    "       10                                  5\n",
    "     /    \\                               / \\\n",
    "    5     15                            3   10\n",
    "   / \\    / \\                          / \\    \\\n",
    "  1   8  12  20                       1   4    14\n",
    "\"\"\"\n",
    "\n",
    "pass"
   ]
  },
  {
   "cell_type": "markdown",
   "metadata": {},
   "source": [
    "#### 1. Count the number of Node in a give tree"
   ]
  },
  {
   "cell_type": "code",
   "execution_count": 10,
   "metadata": {},
   "outputs": [
    {
     "data": {
      "text/plain": [
       "7"
      ]
     },
     "execution_count": 10,
     "metadata": {},
     "output_type": "execute_result"
    }
   ],
   "source": [
    "def count_node(root: TreeNode) -> int:\n",
    "    if root is None:\n",
    "        return 0\n",
    "\n",
    "    left = count_node(root.left)\n",
    "    right = count_node(root.right)\n",
    "    total = 1 + left + right  # 1 for current node\n",
    "\n",
    "    return total\n",
    "\n",
    "\n",
    "count_node(root)"
   ]
  },
  {
   "cell_type": "markdown",
   "metadata": {},
   "source": [
    "#### 2. Sum of all node in a Tree"
   ]
  },
  {
   "cell_type": "code",
   "execution_count": 11,
   "metadata": {},
   "outputs": [
    {
     "data": {
      "text/plain": [
       "37"
      ]
     },
     "execution_count": 11,
     "metadata": {},
     "output_type": "execute_result"
    }
   ],
   "source": [
    "def sum_of_tree(root: TreeNode) -> int:\n",
    "    if root is None:\n",
    "        return 0\n",
    "    left = sum_of_tree(root.left)\n",
    "    right = sum_of_tree(root.right)\n",
    "\n",
    "    return root.val + left + right\n",
    "\n",
    "\n",
    "sum_of_tree(tree.root)"
   ]
  },
  {
   "cell_type": "markdown",
   "metadata": {},
   "source": [
    "#### 3. leetCode: 104 Maximum Depth of Binary Tree"
   ]
  },
  {
   "cell_type": "code",
   "execution_count": 12,
   "metadata": {},
   "outputs": [
    {
     "name": "stdout",
     "output_type": "stream",
     "text": [
      "With DFS: 3\n",
      "With BFS: 3\n"
     ]
    }
   ],
   "source": [
    "def max_depth_DFS(root: TreeNode) -> int:\n",
    "    if root is None:\n",
    "        return 0\n",
    "    left_depth = max_depth_DFS(root.left)\n",
    "    right_depth = max_depth_DFS(root.right)\n",
    "\n",
    "    return max(left_depth, right_depth) + 1\n",
    "\n",
    "\n",
    "def max_depth_BFS(root: TreeNode):\n",
    "    queue = [root]\n",
    "    level = 0\n",
    "    while queue:\n",
    "        for _ in range(len(queue)):\n",
    "            node = queue.pop(0)\n",
    "            if node.left:\n",
    "                queue.append(node.left)\n",
    "            if node.right:\n",
    "                queue.append(node.right)\n",
    "        level += 1\n",
    "    return level\n",
    "\n",
    "\n",
    "print(f\"With DFS: {max_depth_DFS(root)}\")\n",
    "print(f\"With BFS: {max_depth_BFS(root)}\")"
   ]
  },
  {
   "cell_type": "markdown",
   "metadata": {},
   "source": [
    "#### 4. Sum of nodes at Kth level"
   ]
  },
  {
   "cell_type": "code",
   "execution_count": 13,
   "metadata": {},
   "outputs": [
    {
     "data": {
      "text/plain": [
       "20"
      ]
     },
     "execution_count": 13,
     "metadata": {},
     "output_type": "execute_result"
    }
   ],
   "source": [
    "# Level order traversal\n",
    "# considering root node as level 1\n",
    "from collections import deque\n",
    "\n",
    "\n",
    "def sum_of_kth_level(root: TreeNode, k) -> int:\n",
    "\n",
    "    level = 1\n",
    "    queue: deque[TreeNode] = deque([root])\n",
    "\n",
    "    while queue:\n",
    "        curr_level_size = len(queue)\n",
    "        if level == k:\n",
    "            return sum([item.val for item in queue])\n",
    "\n",
    "        for _ in range(curr_level_size):\n",
    "            node = queue.popleft()\n",
    "            if node.left:\n",
    "                queue.append(node.left)\n",
    "            if node.right:\n",
    "                queue.append(node.right)\n",
    "        level += 1\n",
    "\n",
    "\n",
    "sum_of_kth_level(root, 2)"
   ]
  },
  {
   "cell_type": "markdown",
   "metadata": {},
   "source": [
    "#### 5. leetCode: 543 Diameter of Binary Tree"
   ]
  },
  {
   "cell_type": "code",
   "execution_count": null,
   "metadata": {},
   "outputs": [],
   "source": []
  }
 ],
 "metadata": {
  "kernelspec": {
   "display_name": ".venv",
   "language": "python",
   "name": "python3"
  },
  "language_info": {
   "codemirror_mode": {
    "name": "ipython",
    "version": 3
   },
   "file_extension": ".py",
   "mimetype": "text/x-python",
   "name": "python",
   "nbconvert_exporter": "python",
   "pygments_lexer": "ipython3",
   "version": "3.10.12"
  }
 },
 "nbformat": 4,
 "nbformat_minor": 2
}
