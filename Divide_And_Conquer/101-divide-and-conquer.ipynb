{
 "cells": [
  {
   "cell_type": "markdown",
   "metadata": {},
   "source": [
    "Theory: divide and conquer    \n",
    "Links:    \n",
    "        - Blogs   \n",
    "        - youtube"
   ]
  },
  {
   "cell_type": "markdown",
   "metadata": {},
   "source": [
    "### Merge Sort"
   ]
  },
  {
   "cell_type": "code",
   "execution_count": null,
   "metadata": {},
   "outputs": [],
   "source": []
  },
  {
   "cell_type": "markdown",
   "metadata": {},
   "source": [
    "### Maximum sum sub-array\n",
    "input: [10, 40, -30, 70, 10]   \n",
    "output: 100"
   ]
  },
  {
   "cell_type": "code",
   "execution_count": null,
   "metadata": {},
   "outputs": [],
   "source": []
  },
  {
   "cell_type": "markdown",
   "metadata": {},
   "source": [
    "### Find the number of occurrences of a given number in an array. \n",
    "nums = [10, 5, 21, 5, 20, 5]   \n",
    "key = 5   \n",
    "output: 3"
   ]
  },
  {
   "cell_type": "code",
   "execution_count": 1,
   "metadata": {},
   "outputs": [
    {
     "data": {
      "text/plain": [
       "3"
      ]
     },
     "execution_count": 1,
     "metadata": {},
     "output_type": "execute_result"
    }
   ],
   "source": [
    "def count_occur(arr: list[int], key: int, left: int, right: int) -> int:\n",
    "    if left == right:\n",
    "        if arr[left] == key:\n",
    "            return 1\n",
    "        else:\n",
    "            return 0\n",
    "\n",
    "    mid = (left + right) // 2\n",
    "    left_count = count_occur(arr, key, left=left, right=mid)\n",
    "    right_count = count_occur(arr, key, left=mid + 1, right=right)\n",
    "    return left_count + right_count\n",
    "\n",
    "\n",
    "arr = [10, 5, 4, 7, 5, 10, 5]\n",
    "count_occur(arr, key=5, left=0, right=len(arr) - 1)"
   ]
  },
  {
   "cell_type": "code",
   "execution_count": 2,
   "metadata": {},
   "outputs": [
    {
     "data": {
      "text/plain": [
       "3"
      ]
     },
     "execution_count": 2,
     "metadata": {},
     "output_type": "execute_result"
    }
   ],
   "source": [
    "def count_occur_v2(arr: list[int], key: int) -> int:\n",
    "    if len(arr) == 1:\n",
    "        if arr[0] == key:\n",
    "            return 1\n",
    "        else:\n",
    "            return 0\n",
    "\n",
    "    mid = len(arr) // 2\n",
    "    left_count = count_occur_v2(arr[:mid], key)\n",
    "    right_count = count_occur_v2(arr[mid:], key)\n",
    "    return left_count + right_count\n",
    "\n",
    "\n",
    "arr = [10, 5, 4, 7, 5, 10, 5]\n",
    "count_occur_v2(arr, key=5)"
   ]
  },
  {
   "cell_type": "markdown",
   "metadata": {},
   "source": [
    "### Find the first and last occurrences of a number from a given array.\n",
    "nums = [10, 5, 21, 5, 20, 5]   \n",
    "key = 5   \n",
    "output: 1,5"
   ]
  },
  {
   "cell_type": "code",
   "execution_count": 3,
   "metadata": {},
   "outputs": [
    {
     "data": {
      "text/plain": [
       "(1, 6)"
      ]
     },
     "execution_count": 3,
     "metadata": {},
     "output_type": "execute_result"
    }
   ],
   "source": [
    "def first_and_last_occur(arr: list, key: int, left: int, right: int) -> tuple[int, int]:\n",
    "    if left == right:\n",
    "        if arr[left] == key:\n",
    "            return left, left\n",
    "        else:\n",
    "            return float(\"inf\"), -float(\"inf\")\n",
    "\n",
    "    mid = (left + right) // 2\n",
    "    left_occur = first_and_last_occur(arr, key, left=left, right=mid)\n",
    "    right_occur = first_and_last_occur(arr, key, left=mid + 1, right=right)\n",
    "\n",
    "    return min(left_occur[0], right_occur[0]), max(left_occur[1], right_occur[1])\n",
    "\n",
    "\n",
    "arr = [10, 5, 4, 7, 5, 10, 5]\n",
    "first_and_last_occur(arr, key=5, left=0, right=len(arr) - 1)"
   ]
  },
  {
   "cell_type": "code",
   "execution_count": null,
   "metadata": {},
   "outputs": [],
   "source": []
  }
 ],
 "metadata": {
  "kernelspec": {
   "display_name": ".venv",
   "language": "python",
   "name": "python3"
  },
  "language_info": {
   "codemirror_mode": {
    "name": "ipython",
    "version": 3
   },
   "file_extension": ".py",
   "mimetype": "text/x-python",
   "name": "python",
   "nbconvert_exporter": "python",
   "pygments_lexer": "ipython3",
   "version": "3.10.12"
  }
 },
 "nbformat": 4,
 "nbformat_minor": 2
}
