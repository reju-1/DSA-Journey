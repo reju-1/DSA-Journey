{
 "cells": [
  {
   "cell_type": "markdown",
   "metadata": {},
   "source": [
    "## Recursion Problem solving"
   ]
  },
  {
   "cell_type": "markdown",
   "metadata": {},
   "source": [
    "### 1. Prints the numbers from 1 to N."
   ]
  },
  {
   "cell_type": "code",
   "execution_count": 1,
   "metadata": {},
   "outputs": [
    {
     "name": "stdout",
     "output_type": "stream",
     "text": [
      "1 2 3 4 5 "
     ]
    }
   ],
   "source": [
    "def print_one_to_n(num: int) -> None:\n",
    "    if num == 0:\n",
    "        return\n",
    "\n",
    "    print_one_to_n(num - 1)\n",
    "    print(num, end=\" \")\n",
    "\n",
    "\n",
    "print_one_to_n(5)"
   ]
  },
  {
   "cell_type": "markdown",
   "metadata": {},
   "source": [
    "### 2. Prints the number from N to 1"
   ]
  },
  {
   "cell_type": "code",
   "execution_count": 2,
   "metadata": {},
   "outputs": [
    {
     "name": "stdout",
     "output_type": "stream",
     "text": [
      "5 4 3 2 1 "
     ]
    }
   ],
   "source": [
    "def print_n_to_one(num: int) -> None:\n",
    "    if num == 0:\n",
    "        return\n",
    "\n",
    "    print(num, end=\" \")\n",
    "    print_n_to_one(num - 1)\n",
    "\n",
    "\n",
    "print_n_to_one(5)"
   ]
  },
  {
   "cell_type": "markdown",
   "metadata": {},
   "source": [
    "### 3. Calculate the sum of 1 + 2 + 3 + ... + N"
   ]
  },
  {
   "cell_type": "code",
   "execution_count": 3,
   "metadata": {},
   "outputs": [
    {
     "data": {
      "text/plain": [
       "5050"
      ]
     },
     "execution_count": 3,
     "metadata": {},
     "output_type": "execute_result"
    }
   ],
   "source": [
    "def sum_of_n(num: int) -> int:\n",
    "    if num == 1:\n",
    "        return 1\n",
    "\n",
    "    sum = num + sum_of_n(num - 1)\n",
    "    return sum\n",
    "\n",
    "\n",
    "sum_of_n(100)"
   ]
  },
  {
   "cell_type": "markdown",
   "metadata": {},
   "source": [
    "### 4. Calculate the factorial of N.   \n",
    "5 ! = 5 * 4 * 3 * 2 * 1"
   ]
  },
  {
   "cell_type": "code",
   "execution_count": 4,
   "metadata": {},
   "outputs": [
    {
     "data": {
      "text/plain": [
       "120"
      ]
     },
     "execution_count": 4,
     "metadata": {},
     "output_type": "execute_result"
    }
   ],
   "source": [
    "def factorial(num: int) -> int:\n",
    "    if num == 1 or num == 0:\n",
    "        return 1\n",
    "\n",
    "    fact = num * factorial(num - 1)\n",
    "    return fact\n",
    "\n",
    "\n",
    "factorial(5)"
   ]
  },
  {
   "cell_type": "markdown",
   "metadata": {},
   "source": [
    "### 5. Calculate the sum of digits of a given number N.  \n",
    "n = 313  \n",
    "sum = 7\n",
    "\n",
    "\n"
   ]
  },
  {
   "cell_type": "code",
   "execution_count": 5,
   "metadata": {},
   "outputs": [
    {
     "data": {
      "text/plain": [
       "9"
      ]
     },
     "execution_count": 5,
     "metadata": {},
     "output_type": "execute_result"
    }
   ],
   "source": [
    "def sum_of_digits(num: int) -> int:\n",
    "    if num == 0:\n",
    "        return 0\n",
    "\n",
    "    last_digits = num % 10\n",
    "    return last_digits + sum_of_digits(num // 10)\n",
    "\n",
    "\n",
    "sum_of_digits(2025)"
   ]
  },
  {
   "cell_type": "markdown",
   "metadata": {},
   "source": [
    "### 6. Count the number of digits of a given number n."
   ]
  },
  {
   "cell_type": "code",
   "execution_count": 6,
   "metadata": {},
   "outputs": [
    {
     "data": {
      "text/plain": [
       "3"
      ]
     },
     "execution_count": 6,
     "metadata": {},
     "output_type": "execute_result"
    }
   ],
   "source": [
    "def count_digit(num: int) -> int:\n",
    "    if num == 0:\n",
    "        return 0\n",
    "\n",
    "    return 1 + count_digit(num // 10)\n",
    "\n",
    "\n",
    "count_digit(512)"
   ]
  },
  {
   "cell_type": "markdown",
   "metadata": {},
   "source": [
    "### 7. Calculate the nth term of a Fibonacci series.   \n",
    "0, 1, 1, 2, 3, 5, 8, 13, 21, 34, 55, 89, 144"
   ]
  },
  {
   "cell_type": "code",
   "execution_count": 7,
   "metadata": {},
   "outputs": [
    {
     "data": {
      "text/plain": [
       "144"
      ]
     },
     "execution_count": 7,
     "metadata": {},
     "output_type": "execute_result"
    }
   ],
   "source": [
    "def calc_nth_fibonacci(num: int) -> int:\n",
    "    if num == 1:  # 1st fibonacci 0\n",
    "        return 0\n",
    "    if num == 2:  # 2nd fibonacci 1\n",
    "        return 1\n",
    "\n",
    "    worker1 = calc_nth_fibonacci(num - 1)\n",
    "    worker2 = calc_nth_fibonacci(num - 2)\n",
    "    nTh_fib = worker1 + worker2\n",
    "    return nTh_fib\n",
    "\n",
    "\n",
    "calc_nth_fibonacci(13)"
   ]
  },
  {
   "cell_type": "markdown",
   "metadata": {},
   "source": [
    "### 8. Calculate x^y"
   ]
  },
  {
   "cell_type": "code",
   "execution_count": 8,
   "metadata": {},
   "outputs": [
    {
     "data": {
      "text/plain": [
       "0.25"
      ]
     },
     "execution_count": 8,
     "metadata": {},
     "output_type": "execute_result"
    }
   ],
   "source": [
    "def pow(x, y):\n",
    "    if y == 0:\n",
    "        return 1\n",
    "\n",
    "    return x * pow(x, y - 1)\n",
    "\n",
    "\n",
    "def calc_power(base: int, exponent: int):\n",
    "    result = pow(base, abs(exponent))\n",
    "    if exponent < 0:\n",
    "        return 1 / result\n",
    "\n",
    "    return result\n",
    "\n",
    "\n",
    "calc_power(2, -2)"
   ]
  },
  {
   "cell_type": "markdown",
   "metadata": {},
   "source": [
    "### 9. Print the array elements."
   ]
  },
  {
   "cell_type": "code",
   "execution_count": 9,
   "metadata": {},
   "outputs": [
    {
     "name": "stdout",
     "output_type": "stream",
     "text": [
      "10 20 30 40 50 "
     ]
    }
   ],
   "source": [
    "def print_array(nums: list, index=0) -> None:\n",
    "    if index == len(nums):\n",
    "        return\n",
    "\n",
    "    print(nums[index], end=\" \")\n",
    "    print_array(nums, index + 1)\n",
    "\n",
    "\n",
    "print_array([10, 20, 30, 40, 50])"
   ]
  },
  {
   "cell_type": "markdown",
   "metadata": {},
   "source": [
    "### 10. Find the largest element of a given array."
   ]
  },
  {
   "cell_type": "code",
   "execution_count": 10,
   "metadata": {},
   "outputs": [
    {
     "data": {
      "text/plain": [
       "90"
      ]
     },
     "execution_count": 10,
     "metadata": {},
     "output_type": "execute_result"
    }
   ],
   "source": [
    "def largest_element(nums: list[int], index=0):\n",
    "    if len(nums) - 1 == index:  # Checking index == last_element\n",
    "        return nums[index]\n",
    "\n",
    "    current = nums[index]\n",
    "    from_rest = largest_element(nums, index + 1)\n",
    "    return max(current, from_rest)\n",
    "\n",
    "\n",
    "largest_element([10, 90, 70, 40, 30, 45])"
   ]
  },
  {
   "cell_type": "markdown",
   "metadata": {},
   "source": [
    "### 10.1 Find the smallest element of a given array."
   ]
  },
  {
   "cell_type": "code",
   "execution_count": 11,
   "metadata": {},
   "outputs": [
    {
     "data": {
      "text/plain": [
       "40"
      ]
     },
     "execution_count": 11,
     "metadata": {},
     "output_type": "execute_result"
    }
   ],
   "source": [
    "def smallest_element(nums: list[int], index):\n",
    "    if index == 0:\n",
    "        return nums[index]\n",
    "\n",
    "    current_value = nums[index]\n",
    "    from_rest = smallest_element(nums, index - 1)\n",
    "    return min(current_value, from_rest)\n",
    "\n",
    "\n",
    "nums = [63, 40, 101, 75, 80, 45]\n",
    "smallest_element(nums, len(nums) - 1)"
   ]
  },
  {
   "cell_type": "markdown",
   "metadata": {},
   "source": [
    "### 11. Find the largest and smallest element of a given array."
   ]
  },
  {
   "cell_type": "code",
   "execution_count": 12,
   "metadata": {},
   "outputs": [
    {
     "data": {
      "text/plain": [
       "(-1000, 5000)"
      ]
     },
     "execution_count": 12,
     "metadata": {},
     "output_type": "execute_result"
    }
   ],
   "source": [
    "def smallest_largest(arr: list[int], index: int) -> tuple[int, int]:\n",
    "    if index == 0:\n",
    "        return arr[index], arr[index]\n",
    "\n",
    "    current_value = arr[index]\n",
    "    from_rest = smallest_largest(arr, index - 1)\n",
    "\n",
    "    min_value = min(current_value, from_rest[0])\n",
    "    max_value = max(current_value, from_rest[1])\n",
    "    return min_value, max_value\n",
    "\n",
    "\n",
    "arr = [20, 30, 5000, 40, -1000, 25]\n",
    "smallest_largest(arr, len(arr) - 1)"
   ]
  },
  {
   "cell_type": "markdown",
   "metadata": {},
   "source": [
    "### 12. Check whether a given string is palindrome or not."
   ]
  },
  {
   "cell_type": "code",
   "execution_count": 13,
   "metadata": {},
   "outputs": [
    {
     "data": {
      "text/plain": [
       "True"
      ]
     },
     "execution_count": 13,
     "metadata": {},
     "output_type": "execute_result"
    }
   ],
   "source": [
    "def isPalindrome_v1(input_str: str, left: int, right: int) -> bool:\n",
    "\n",
    "    if left >= right:  # if left pinter cross right pinter its palindrome\n",
    "        return True\n",
    "    if input_str[left] != input_str[right]:\n",
    "        return False\n",
    "\n",
    "    return isPalindrome_v1(input_str, left + 1, right - 1)\n",
    "\n",
    "\n",
    "s = \"abcba\"\n",
    "isPalindrome_v1(s, 0, len(s) - 1)"
   ]
  },
  {
   "cell_type": "code",
   "execution_count": 14,
   "metadata": {},
   "outputs": [
    {
     "data": {
      "text/plain": [
       "True"
      ]
     },
     "execution_count": 14,
     "metadata": {},
     "output_type": "execute_result"
    }
   ],
   "source": [
    "def isPalindrome_v2(input: str) -> bool:\n",
    "    \"\"\"Nested functions (Closure)\"\"\"\n",
    "\n",
    "    def helper(left: int, right: int) -> bool:\n",
    "        if left >= right:\n",
    "            return True\n",
    "        if input[left] != input[right]:\n",
    "            return False\n",
    "        else:\n",
    "            return helper(left + 1, right - 1)\n",
    "\n",
    "    return helper(left=0, right=len(input) - 1)\n",
    "\n",
    "\n",
    "isPalindrome_v2(\"xyx\")"
   ]
  },
  {
   "cell_type": "markdown",
   "metadata": {},
   "source": [
    "### 13. Binary search"
   ]
  },
  {
   "cell_type": "code",
   "execution_count": 15,
   "metadata": {},
   "outputs": [
    {
     "data": {
      "text/plain": [
       "8"
      ]
     },
     "execution_count": 15,
     "metadata": {},
     "output_type": "execute_result"
    }
   ],
   "source": [
    "def binary_search(arr: list[int], key: int, left: int, right: int) -> int:\n",
    "    if left > right:\n",
    "        return -1  # Search Key is missing\n",
    "\n",
    "    mid = (left + right) // 2\n",
    "\n",
    "    if arr[mid] == key:\n",
    "        return mid\n",
    "    if key < arr[mid]:\n",
    "        return binary_search(arr, key, left, right=mid - 1)\n",
    "    else:\n",
    "        return binary_search(arr, key, left=mid + 1, right=right)\n",
    "\n",
    "\n",
    "arr = [0, 10, 20, 30, 40, 50, 60, 70, 80, 90, 100]\n",
    "binary_search(arr, key=80, left=0, right=len(arr) - 1)"
   ]
  },
  {
   "cell_type": "markdown",
   "metadata": {},
   "source": [
    "### 14. Is sub-sequence\n",
    "Given two strings s and t,   \n",
    "return true if s is a subsequence of t, or false otherwise.[leetcode](https://leetcode.com/problems/is-subsequence/)   \n",
    "Solve with recursion"
   ]
  },
  {
   "cell_type": "code",
   "execution_count": 16,
   "metadata": {},
   "outputs": [
    {
     "data": {
      "text/plain": [
       "True"
      ]
     },
     "execution_count": 16,
     "metadata": {},
     "output_type": "execute_result"
    }
   ],
   "source": [
    "def is_subsequence(s1: str, s2: str):\n",
    "\n",
    "    def helper(i: int, j: int):\n",
    "        if i == 0:\n",
    "            return True\n",
    "        if j == 0:\n",
    "            return False\n",
    "\n",
    "        if s1[i - 1] == s2[j - 1]:\n",
    "            return helper(i - 1, j - 1)\n",
    "        else:\n",
    "            return helper(i, j - 1)\n",
    "\n",
    "    return helper(len(s1), len(s2))\n",
    "\n",
    "\n",
    "is_subsequence(\"abc\", \"akbgdc\")"
   ]
  },
  {
   "cell_type": "markdown",
   "metadata": {},
   "source": [
    "## Deep dive into recursion"
   ]
  },
  {
   "cell_type": "markdown",
   "metadata": {},
   "source": [
    "### Recursions types"
   ]
  },
  {
   "cell_type": "code",
   "execution_count": 17,
   "metadata": {},
   "outputs": [],
   "source": [
    "\"\"\"\n",
    "Types of Recursion:\n",
    "    - Direct: A function calls itself directly.\n",
    "    - Indirect: Functions call each other in a loop (e.g., func1 → func2 → func1).\n",
    "\n",
    "    - Head: Recursive call right after base condition.\n",
    "    - Tail: Recursive call is the last statement.\n",
    "    - Non-Tail: Recursive call is followed by additional operations.\n",
    "\n",
    "    - Linear: Single recursive call at each step.\n",
    "    - Tree: Multiple recursive calls at each step.\n",
    "    - Nested: Recursive call occurs within its own arguments.\n",
    "\n",
    "Note:\n",
    "    - Those categories overlap each others\n",
    "\n",
    "Reference:\n",
    "    - https://www.geeksforgeeks.org/types-of-recursions/\n",
    "    - https://stackoverflow.com/questions/33923/what-is-tail-recursion\n",
    "\"\"\"\n",
    "\n",
    "pass"
   ]
  },
  {
   "cell_type": "markdown",
   "metadata": {},
   "source": [
    "### Tail call optimization (TCO)"
   ]
  },
  {
   "cell_type": "code",
   "execution_count": 18,
   "metadata": {},
   "outputs": [],
   "source": [
    "\"\"\"\n",
    "Tail recursion is a type of recursion where the recursive call is the last operation in the function.  \n",
    "This allows some languages, such as Kotlin and Swift, to apply Tail Call Optimization (TCO), reducing  \n",
    "space complexity to O(1) by reusing the current function's stack frame.  \n",
    "\n",
    "Tail-recursive functions are optimized to treat recursive calls like loops, avoiding the overhead of  \n",
    "multiple stack frames. Python, however, does not support TCO, so recursive functions in Python have  \n",
    "a space complexity of O(n) or more due to the creation of new stack frames for each call.  \n",
    "\n",
    "Note:\n",
    "    - TCO is not universally supported.\n",
    "    - Languages like C, Java, and JavaScript may support TCO but do not guarantee it.\n",
    "    - Languages without TCO have recursion space complexity of O(n) or more.\n",
    "\n",
    "Reference:\n",
    "    - https://www.geeksforgeeks.org/tail-call-optimisation-in-c/\n",
    "    - https://www.youtube.com/watch?v=Ex3lT8QLRns\n",
    "\"\"\"\n",
    "\n",
    "pass"
   ]
  },
  {
   "cell_type": "markdown",
   "metadata": {},
   "source": [
    "### Recursion Depth Limit"
   ]
  },
  {
   "cell_type": "code",
   "execution_count": 19,
   "metadata": {},
   "outputs": [],
   "source": [
    "\"\"\"\n",
    "Every language has a recursion depth limit to prevent:\n",
    "    - Stack overflow,\n",
    "    - Excessive memory usage,\n",
    "    - Performance degradation.\n",
    "\n",
    "Recursion Depth in Python:\n",
    "    - Python has a default recursion limit (usually 1000) to prevent stack overflow.\n",
    "    - The current recursion depth can be checked using `sys.getrecursionlimit()`.\n",
    "    - Some algorithms (e.g., tree traversal, backtracking) may require a higher depth.\n",
    "    - Use `sys.setrecursionlimit()` to adjust the depth, but do so cautiously.\n",
    "\n",
    "Note:\n",
    "    - Languages with TCO or lightweight concurrency may support deeper recursion, but practical limits exist.\n",
    "\n",
    "Reference:\n",
    "    - https://docs.python.org/3/library/sys.html#sys.setrecursionlimit\n",
    "\"\"\"\n",
    "\n",
    "pass"
   ]
  }
 ],
 "metadata": {
  "kernelspec": {
   "display_name": ".venv",
   "language": "python",
   "name": "python3"
  },
  "language_info": {
   "codemirror_mode": {
    "name": "ipython",
    "version": 3
   },
   "file_extension": ".py",
   "mimetype": "text/x-python",
   "name": "python",
   "nbconvert_exporter": "python",
   "pygments_lexer": "ipython3",
   "version": "3.10.12"
  }
 },
 "nbformat": 4,
 "nbformat_minor": 2
}
