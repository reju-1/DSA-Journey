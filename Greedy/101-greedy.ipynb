{
 "cells": [
  {
   "cell_type": "markdown",
   "metadata": {},
   "source": [
    "### Theory "
   ]
  },
  {
   "cell_type": "code",
   "execution_count": 1,
   "metadata": {},
   "outputs": [],
   "source": [
    "\"\"\"\n",
    "The Greedy Algorithmic Paradigm is a method used for solving optimization problems.\n",
    "\n",
    "Optimization can involve:\n",
    "    - Minimization: Reducing loss, cost, or other undesired factors.\n",
    "    - Maximization: Increasing profit, value, or other desired factors.\n",
    "\n",
    "In essence, optimization refers to the process of minimizing losses or maximizing gains\n",
    "to achieve the best possible outcome.\n",
    "\n",
    "There are several ways to soling Optimization problem like:\n",
    "    - Dynamic programming\n",
    "    - Branch and Bound\n",
    "    - Gradient Descent\n",
    "    - Linear Programming\n",
    "    ...\n",
    "\"\"\"\n",
    "\n",
    "pass"
   ]
  },
  {
   "cell_type": "code",
   "execution_count": 2,
   "metadata": {},
   "outputs": [],
   "source": [
    "\"\"\"\n",
    "What is Greedy method or approach?\n",
    "    The Greedy method or approach is a problem-solving technique where decisions are \n",
    "    made by selecting the best possible choice at each step, aiming for an optimal overall solution. \n",
    "    It focuses on making locally optimal choices with the assumption that these lead to a globally \n",
    "    optimal result. However, the greedy strategy does not always guarantee the best solution and may yield \n",
    "    suboptimal outcomes in some cases.\n",
    "\n",
    "\n",
    "Pros and Cons of Greedy approach:\n",
    "    Pros: Simple, fast, and easy to implement.\n",
    "    Cons: May not always provide the best solution for all problems.\n",
    "\n",
    "Note: \n",
    "    Some greedy approaches guarantee an optimal solution, while others may not.\n",
    "    Example (always optimal):\n",
    "        - Fractional Knapsack\n",
    "        - Activity Selection\n",
    "        - Job Scheduling\n",
    "\"\"\"\n",
    "\n",
    "pass"
   ]
  },
  {
   "cell_type": "code",
   "execution_count": 3,
   "metadata": {},
   "outputs": [],
   "source": [
    "\"\"\"\n",
    "Popular algorithms based on the Greedy approach include:\n",
    "    - Huffman Coding: Constructs an optimal prefix code for data compression.\n",
    "    - Kruskal's Algorithm: Finds the Minimum Spanning Tree of a graph by adding edges with the least weight.\n",
    "    - Prim's Algorithm: Builds the Minimum Spanning Tree by growing a single tree, adding the smallest edge that connects to the tree.\n",
    "    - Dijkstra's Algorithm: Finds the shortest path from a source node to all other nodes in a weighted graph.\n",
    "    - \n",
    "\"\"\"\n",
    "\n",
    "pass"
   ]
  },
  {
   "cell_type": "code",
   "execution_count": 4,
   "metadata": {},
   "outputs": [],
   "source": [
    "\"\"\" \n",
    "links:\n",
    "    - Greedy-intro: https://www.youtube.com/watch?v=ARvQcqJ_-NY\n",
    "    - https://stackoverflow.com/questions/6162465/divide-and-conquer-dynamic-programming-and-greedy-algorithms\n",
    "    - \n",
    "\"\"\"\n",
    "\n",
    "pass"
   ]
  },
  {
   "cell_type": "markdown",
   "metadata": {},
   "source": [
    "### Activity selection"
   ]
  },
  {
   "cell_type": "code",
   "execution_count": 5,
   "metadata": {},
   "outputs": [],
   "source": [
    "activities = [\n",
    "    (\"A1\", 1, 10),\n",
    "    (\"A2\", 2, 4),\n",
    "    (\"A3\", 3, 6),\n",
    "    (\"A4\", 5, 8),\n",
    "    (\"A5\", 7, 12),\n",
    "    (\"A6\", 9, 14),\n",
    "    (\"A7\", 8, 12),\n",
    "]"
   ]
  },
  {
   "cell_type": "code",
   "execution_count": 6,
   "metadata": {},
   "outputs": [
    {
     "data": {
      "text/plain": [
       "[('A2', 2, 4), ('A4', 5, 8), ('A7', 8, 12)]"
      ]
     },
     "execution_count": 6,
     "metadata": {},
     "output_type": "execute_result"
    }
   ],
   "source": [
    "def activity_selection(activities: list[tuple]) -> list[tuple]:\n",
    "    \"\"\"\n",
    "    Activities: [(name, start, end), ... ]\n",
    "    Returns: selected activity\n",
    "    The idea is that activities that finish earlier leave more room for subsequent activities.\n",
    "    \"\"\"\n",
    "\n",
    "    activities.sort(key=lambda x: x[2])  # Sorting by finish time\n",
    "    selected = []\n",
    "    selected.append(activities[0])\n",
    "\n",
    "    for activity in activities[1:]:\n",
    "        if activity[1] >= selected[-1][2]:\n",
    "            selected.append(activity)\n",
    "\n",
    "    return selected\n",
    "\n",
    "\n",
    "activity_selection(activities)"
   ]
  },
  {
   "cell_type": "code",
   "execution_count": 7,
   "metadata": {},
   "outputs": [
    {
     "data": {
      "text/plain": [
       "[('A2', 2, 4), ('A4', 5, 8), ('A7', 8, 12)]"
      ]
     },
     "execution_count": 7,
     "metadata": {},
     "output_type": "execute_result"
    }
   ],
   "source": [
    "def activity_selection_v2(activities: list[tuple]) -> list[tuple]:\n",
    "    activities.sort(key=lambda x: x[2])  # Sorting by finish time\n",
    "\n",
    "    selected = []\n",
    "    available_time = 0\n",
    "    for activity in activities:\n",
    "        if activity[1] >= available_time:\n",
    "            selected.append(activity)\n",
    "            available_time = activity[2]\n",
    "\n",
    "    return selected\n",
    "\n",
    "\n",
    "activity_selection_v2(activities)"
   ]
  },
  {
   "cell_type": "markdown",
   "metadata": {},
   "source": [
    "### Knapsack"
   ]
  },
  {
   "cell_type": "code",
   "execution_count": 8,
   "metadata": {},
   "outputs": [],
   "source": [
    "\"\"\"\n",
    "What is Knapsack problem?\n",
    "    The Knapsack Problem involves selecting items to maximize their value, \n",
    "    while staying within a weight limit.\n",
    "\n",
    "Types of Knapsack Problems:\n",
    "    - 0/1 Knapsack: Items are either included or excluded, may not yield an optimal solution.\n",
    "    - Fractional Knapsack: Items can be broken into fractions, always provides an optimal solution.\n",
    "\n",
    "\"\"\"\n",
    "\n",
    "pass"
   ]
  },
  {
   "cell_type": "markdown",
   "metadata": {},
   "source": [
    "#### Coin change (0/1 Knapsack)\n",
    "You are given coins of  1, 2, 5, 10, 25. The goal is to make a given amount using the minimum number of coins."
   ]
  },
  {
   "cell_type": "code",
   "execution_count": 9,
   "metadata": {},
   "outputs": [
    {
     "data": {
      "text/plain": [
       "[(15, 2)]"
      ]
     },
     "execution_count": 9,
     "metadata": {},
     "output_type": "execute_result"
    }
   ],
   "source": [
    "def coin_change(coins: list[int], amount: int) -> list:\n",
    "    coins.sort(reverse=True)\n",
    "    result = []\n",
    "\n",
    "    for coin in coins:\n",
    "        if amount == 0:\n",
    "            return result\n",
    "\n",
    "        count = amount // coin\n",
    "\n",
    "        if count > 0:\n",
    "            result.append((coin, count))\n",
    "            amount = amount - coin * count\n",
    "\n",
    "    if amount == 0:\n",
    "        return result\n",
    "    else:\n",
    "        return f\"Not possible with those: {coins} coins\"\n",
    "\n",
    "\n",
    "coins = [5, 1, 15, 50, 100]\n",
    "# coins = [1, 2, 7, 10, 25] # optimal 10x3\n",
    "coin_change(coins, amount=30)"
   ]
  },
  {
   "cell_type": "markdown",
   "metadata": {},
   "source": [
    "#### 1.0 Fractional knapsack \n",
    "You are given a bag with a capacity of xyz kg. Your task is to fill the bag with items such that the total profit is maximized. You can take fractions of items if needed."
   ]
  },
  {
   "cell_type": "code",
   "execution_count": 10,
   "metadata": {},
   "outputs": [
    {
     "data": {
      "text/plain": [
       "[('Fig', 7, 150), ('Olive', 9, 100), ('Apple', 7, 42.0)]"
      ]
     },
     "execution_count": 10,
     "metadata": {},
     "output_type": "execute_result"
    }
   ],
   "source": [
    "def pick_items(items: list[list], capacity: int) -> list:\n",
    "\n",
    "    items.sort(key=lambda x: x[2] / x[1], reverse=True)  #  Sorting by expensiveness\n",
    "\n",
    "    taken = []\n",
    "    for item in items:\n",
    "        if capacity == 0:\n",
    "            return taken\n",
    "        elif item[1] <= capacity:\n",
    "            taken.append(tuple(item))  # Taking whole item\n",
    "            capacity = capacity - item[1]\n",
    "        else:\n",
    "            price_per_kg = item[2] / item[1]\n",
    "            taken.append((item[0], capacity, price_per_kg * capacity))\n",
    "            capacity = 0\n",
    "\n",
    "    return taken\n",
    "\n",
    "\n",
    "items = [\n",
    "    # Name , Kg, $Price\n",
    "    [\"Apple\", 10, 60],\n",
    "    [\"Olive\", 9, 100],\n",
    "    [\"Cherry\", 30, 120],\n",
    "    [\"Dates\", 40, 80],\n",
    "    [\"Fig\", 7, 150],\n",
    "]\n",
    "\n",
    "pick_items(items, 23)"
   ]
  },
  {
   "cell_type": "markdown",
   "metadata": {},
   "source": [
    "#### 1.1 Fractional Knapsack with Multiple Thieves\n",
    "Given n thieves, each with a bag of capacity m kg, and a shop containing items defined by name, weight, and value, determine how much value and weight each thief can steal by following a greedy strategy to maximize stolen value. Thieves enter the shop one by one"
   ]
  },
  {
   "cell_type": "code",
   "execution_count": 11,
   "metadata": {},
   "outputs": [
    {
     "data": {
      "text/plain": [
       "[(1, [('Olive', 15), ('Fig', 10), ('Apple', 15)]),\n",
       " (2, [('Dates', 40)]),\n",
       " (3, [('Dates', 20), ('Cherry', 20)]),\n",
       " (4, [('Cherry', 10)])]"
      ]
     },
     "execution_count": 11,
     "metadata": {},
     "output_type": "execute_result"
    }
   ],
   "source": [
    "def knapsack_multiple_thieves(thieves: int, capacity: int, items: list[list]):\n",
    "    # items  -> [[Name, Kg, Value], ...]\n",
    "    items.sort(key=lambda x: x[2] / x[1], reverse=True)\n",
    "\n",
    "    total_taken = []\n",
    "    for thief_number in range(1, thieves + 1):\n",
    "        each_capacity = capacity\n",
    "        taken = []\n",
    "\n",
    "        for item in items:\n",
    "            if item[1] == 0:  # Item Availability checking\n",
    "                continue\n",
    "            elif each_capacity == 0:\n",
    "                break\n",
    "\n",
    "            elif item[1] <= each_capacity:  # full taking\n",
    "                taken.append(tuple(item[:2]))\n",
    "                each_capacity -= item[1]\n",
    "                item[1] = 0\n",
    "            else:  # Only a fraction of the item can be taken\n",
    "                item[1] -= each_capacity\n",
    "                taken.append((item[0], each_capacity))\n",
    "                each_capacity = 0\n",
    "\n",
    "        total_taken.append((thief_number, taken))\n",
    "\n",
    "    return total_taken\n",
    "\n",
    "\n",
    "items = [\n",
    "    # Name , Kg, $Price\n",
    "    [\"Apple\", 15, 150],\n",
    "    [\"Olive\", 15, 700],\n",
    "    [\"Cherry\", 30, 120],\n",
    "    [\"Dates\", 60, 300],\n",
    "    [\"Fig\", 10, 300],\n",
    "]\n",
    "\n",
    "results = knapsack_multiple_thieves(thieves=4, capacity=40, items=items)\n",
    "# print(items)\n",
    "results"
   ]
  },
  {
   "cell_type": "markdown",
   "metadata": {},
   "source": [
    "### Job Scheduling Problems"
   ]
  },
  {
   "cell_type": "code",
   "execution_count": null,
   "metadata": {},
   "outputs": [],
   "source": []
  }
 ],
 "metadata": {
  "kernelspec": {
   "display_name": ".venv",
   "language": "python",
   "name": "python3"
  },
  "language_info": {
   "codemirror_mode": {
    "name": "ipython",
    "version": 3
   },
   "file_extension": ".py",
   "mimetype": "text/x-python",
   "name": "python",
   "nbconvert_exporter": "python",
   "pygments_lexer": "ipython3",
   "version": "3.10.12"
  }
 },
 "nbformat": 4,
 "nbformat_minor": 2
}
