{
 "cells": [
  {
   "cell_type": "markdown",
   "metadata": {},
   "source": [
    "### single-source shortest path (SSSP)"
   ]
  },
  {
   "cell_type": "code",
   "execution_count": 1,
   "metadata": {},
   "outputs": [],
   "source": [
    "\"\"\"\n",
    "What is Single-Source Shortest-Path (SSSP) Algorithm:\n",
    "    An algorithm that finds the shortest paths from a source vertex to all other vertices in a graph. \n",
    "    It works on directed or undirected, weighted or unweighted graphs, aiming to find the path with the minimum total weight (cost or distance)\n",
    "\n",
    "Shortest Path Algorithms:\n",
    "    - BFS:\n",
    "        For unweighted graphs or unit-weighted edges. Time: O(V + E).\n",
    "    - Dijkstra:\n",
    "        For graphs with non-negative weights, using a priority queue. Time: O((V + E) log V).\n",
    "    - Bellman-Ford:\n",
    "        Handles negative weights and detects negative weight cycles. Time: O(V * E).\n",
    "    - Floyd-Warshall (Not SSSP):\n",
    "        For solving all-pairs shortest paths (APSP) problem. Time: O(V^3).\n",
    "    - A*:\n",
    "        Heuristic-based algorithm for navigation and AI, combining path cost and heuristic. Time: Depends on the heuristic.\n",
    "\n",
    "Applications:\n",
    "    - Computer Networks: Used in routing protocols like OSPF and RIP.\n",
    "    - Navigation Systems: GPS and mapping for route optimization.\n",
    "    - Social Networks: Finding shortest connections between users.\n",
    "    - Operations Research: Optimizing logistics and transportation.\n",
    "    - Robotics: Pathfinding for autonomous systems.\n",
    "\"\"\"\n",
    "\n",
    "pass"
   ]
  },
  {
   "cell_type": "markdown",
   "metadata": {},
   "source": [
    "### BFS"
   ]
  },
  {
   "cell_type": "code",
   "execution_count": null,
   "metadata": {},
   "outputs": [],
   "source": []
  },
  {
   "cell_type": "markdown",
   "metadata": {},
   "source": [
    "### Dijkstra"
   ]
  },
  {
   "cell_type": "code",
   "execution_count": 2,
   "metadata": {},
   "outputs": [],
   "source": [
    "\"\"\"\n",
    "Pseudocode:\n",
    "    1. Initialize:\n",
    "        - Set all vertex distance to infinity, and the source vertex to 0.\n",
    "        - Use a priority queue: priority_queue = [(0, src)]\n",
    "        - Create a `visited` set.\n",
    "\n",
    "    2. While the priority queue is not empty:\n",
    "        - Extract the vertex `current_vertex` with the smallest distance.\n",
    "        - Skip if already visited; otherwise, mark as visited.\n",
    "\n",
    "    3. Edge Relaxation:\n",
    "        -For each neighbor of `current_vertex`:\n",
    "            - Calculate `new_distance = distance[current_vertex] + edge_weight`.\n",
    "            - If `new_distance` is smaller, update `distance[neighbor]` and add it to the queue.\n",
    "\n",
    "    4. Return:\n",
    "        return `distance` \n",
    "\n",
    "links:\n",
    "    - https://www.youtube.com/watch?v=EFg3u_E6eHU\n",
    "\n",
    "Complexity:\n",
    "    - Time: O((V + E) log V)\n",
    "    - Space: O(V + E)\n",
    "\"\"\"\n",
    "\n",
    "pass"
   ]
  },
  {
   "cell_type": "code",
   "execution_count": 3,
   "metadata": {},
   "outputs": [],
   "source": [
    "import heapq\n",
    "\n",
    "\n",
    "def dijkstra(graph: dict, source):\n",
    "\n",
    "    distance = {v: float(\"inf\") for v in graph}  # Every vertex distance Infinity\n",
    "    distance[source] = 0\n",
    "    min_heap = [(0, source)]  # (distance, source)\n",
    "    visited = set()\n",
    "\n",
    "    while min_heap:\n",
    "        current_distance, current_vertex = heapq.heappop(min_heap)\n",
    "\n",
    "        if current_vertex in visited:\n",
    "            continue\n",
    "\n",
    "        visited.add(current_vertex)\n",
    "\n",
    "        for neighbor, weight in graph[current_vertex]:\n",
    "            # neighbor_distance = distance[current_vertex] + weight\n",
    "            neighbor_distance = current_distance + weight\n",
    "\n",
    "            # Edge Relaxation\n",
    "            if neighbor_distance < distance[neighbor]:  #  d[u] + c(u, v) < d[v]\n",
    "                distance[neighbor] = neighbor_distance\n",
    "                heapq.heappush(min_heap, (neighbor_distance, neighbor))\n",
    "\n",
    "    return distance"
   ]
  },
  {
   "cell_type": "code",
   "execution_count": 4,
   "metadata": {},
   "outputs": [
    {
     "data": {
      "text/plain": [
       "{'A': 0, 'B': 3, 'C': 5, 'D': 1}"
      ]
     },
     "execution_count": 4,
     "metadata": {},
     "output_type": "execute_result"
    }
   ],
   "source": [
    "graph = {\n",
    "    \"A\": [(\"D\", 1)],\n",
    "    \"B\": [(\"C\", 7), (\"D\", 2)],\n",
    "    \"C\": [(\"B\", 7), (\"D\", 4)],\n",
    "    \"D\": [(\"A\", 1), (\"B\", 2), (\"C\", 4)],\n",
    "}\n",
    "\n",
    "dijkstra(graph, \"A\")"
   ]
  },
  {
   "cell_type": "markdown",
   "metadata": {},
   "source": [
    "### Dijkstra v2: Shortest Path along with Path Reconstruction"
   ]
  },
  {
   "cell_type": "code",
   "execution_count": 5,
   "metadata": {},
   "outputs": [],
   "source": [
    "import heapq\n",
    "\n",
    "\n",
    "def dijkstra_v2(graph: dict, source):\n",
    "    visited = set()\n",
    "    parents = {source: None}  # Track the parents\n",
    "\n",
    "    distance = {v: float(\"inf\") for v in graph}  # Every vertex distance Infinity\n",
    "    distance[source] = 0\n",
    "    min_heap = [(0, source)]  # (distance, source)\n",
    "\n",
    "    while min_heap:\n",
    "        current_distance, current_vertex = heapq.heappop(min_heap)\n",
    "\n",
    "        if current_vertex in visited:\n",
    "            continue\n",
    "\n",
    "        visited.add(current_vertex)\n",
    "\n",
    "        for neighbor, weight in graph[current_vertex]:\n",
    "            # neighbor_distance = distance[current_vertex] + weight\n",
    "            neighbor_distance = current_distance + weight\n",
    "\n",
    "            # Edge Relaxation\n",
    "            if neighbor_distance < distance[neighbor]:  #  d[u] + c(u, v) < d[v]\n",
    "                distance[neighbor] = neighbor_distance\n",
    "                heapq.heappush(min_heap, (neighbor_distance, neighbor))\n",
    "                parents[neighbor] = current_vertex\n",
    "\n",
    "    return distance, parents\n",
    "\n",
    "\n",
    "def reconstruct_path(parents: dict, src, dest):\n",
    "    path = []\n",
    "    current = dest\n",
    "    while current is not None:\n",
    "        path.append(current)\n",
    "        if current == src:\n",
    "            break\n",
    "        current = parents.get(current)\n",
    "\n",
    "    if path[-1] != src:  # No path exists\n",
    "        return []\n",
    "\n",
    "    return path[::-1]  # Reverse the path"
   ]
  },
  {
   "cell_type": "code",
   "execution_count": 6,
   "metadata": {},
   "outputs": [
    {
     "name": "stdout",
     "output_type": "stream",
     "text": [
      "distance = {'A': 0, 'B': 1, 'C': 3, 'D': 6}\n",
      "parent = {'A': None, 'B': 'A', 'D': 'C', 'C': 'B'}\n",
      "Path: A -> B -> C -> D\n"
     ]
    }
   ],
   "source": [
    "graph = {\n",
    "    \"A\": [(\"B\", 1), (\"D\", 8)],\n",
    "    \"B\": [(\"A\", 1), (\"C\", 2), (\"D\", 6)],\n",
    "    \"C\": [(\"B\", 2), (\"D\", 3)],\n",
    "    \"D\": [(\"A\", 8), (\"B\", 6), (\"C\", 3)],\n",
    "}\n",
    "distance, parent = dijkstra_v2(graph, \"A\")\n",
    "path = reconstruct_path(parent, \"A\", \"D\")\n",
    "\n",
    "print(f\"{distance = }\")\n",
    "print(f\"{parent = }\")\n",
    "print(f\"Path: {' -> '.join(path)}\")"
   ]
  },
  {
   "cell_type": "markdown",
   "metadata": {},
   "source": [
    "### Bellman-Ford"
   ]
  },
  {
   "cell_type": "code",
   "execution_count": null,
   "metadata": {},
   "outputs": [],
   "source": []
  }
 ],
 "metadata": {
  "kernelspec": {
   "display_name": ".venv",
   "language": "python",
   "name": "python3"
  },
  "language_info": {
   "codemirror_mode": {
    "name": "ipython",
    "version": 3
   },
   "file_extension": ".py",
   "mimetype": "text/x-python",
   "name": "python",
   "nbconvert_exporter": "python",
   "pygments_lexer": "ipython3",
   "version": "3.10.12"
  }
 },
 "nbformat": 4,
 "nbformat_minor": 2
}
