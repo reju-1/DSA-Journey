{
 "cells": [
  {
   "cell_type": "markdown",
   "metadata": {},
   "source": [
    "## Theory"
   ]
  },
  {
   "cell_type": "code",
   "execution_count": 1,
   "metadata": {},
   "outputs": [],
   "source": [
    "\"\"\"\n",
    "What is DP?\n",
    "    Dynamic Programming (DP) is an optimization technique that solves complex problems by breaking them\n",
    "    into simpler sub-problems and storing their results to avoid redundant computations. It is a \n",
    "    problem-solving approach, not a specific algorithm.\n",
    "\n",
    "Where is it needed?\n",
    "    DP is used for solving optimization problems, where minimization or maximization is required.\n",
    "    such as:\n",
    "    - resource allocation.\n",
    "    - finding the best solution among options.\n",
    "    - finding the shortest path.\n",
    "    ...\n",
    "\n",
    "\"\"\"\n",
    "\n",
    "pass"
   ]
  },
  {
   "cell_type": "code",
   "execution_count": 2,
   "metadata": {},
   "outputs": [],
   "source": [
    "\"\"\" \n",
    "There are two key attributes that a problem must have in order for dynamic programming to be applicable:\n",
    "    1. Optimal substructure:\n",
    "        A problem is said to have optimal substructure if an optimal solution can be constructed \n",
    "        from optimal solutions of its sub-problems.\n",
    "\n",
    "    2. Overlapping sub-problems:\n",
    "        The same sub-problems appear multiple times (e.g., Recursive Fibonacci problem).\n",
    "        By storing their results, we can reuse them and eliminate redundant computations.\n",
    "\n",
    "Note:\n",
    "    If a problem can be solved by combining optimal solutions to non-overlapping sub-problems,\n",
    "    the strategy is called \"divide and conquer\" instead. This is why merge sort and quick sort \n",
    "    are not classified as dynamic programming problems.\n",
    "\n",
    "Link:\n",
    "    - https://en.wikipedia.org/wiki/Dynamic_programming#Computer_science\n",
    "\"\"\"\n",
    "\n",
    "pass"
   ]
  },
  {
   "cell_type": "code",
   "execution_count": 3,
   "metadata": {},
   "outputs": [],
   "source": [
    "\"\"\"\n",
    "There are two ways to solve DP problems:\n",
    "    - Top-down approach\n",
    "    - Bottom-up approach\n",
    "\n",
    "Top-down approach:\n",
    "    This approach uses recursion with memoization.\n",
    "    Steps:\n",
    "        1. Identify the recursive brute force solution.\n",
    "        2. Apply memoization to store and reuse subproblem results.\n",
    "        \n",
    "    Why memoization?\n",
    "        In tree recursion, each recursive call may generate multiple new calls, leading to redundant\n",
    "        re-calculations of the same sub-problems. This results in exponential time complexity O(branch^n). \n",
    "        Memoization stores results of sub-problems and reuses them, eliminating redundant calculations.\n",
    "\n",
    "\n",
    "Bottom-up approach:\n",
    "    Uses tabulation to build solutions iteratively from the base case up.\n",
    "    Steps:\n",
    "        1. Define a table to store subproblem results.\n",
    "        2. Populate the table using bottom-up logic.\n",
    "\"\"\"\n",
    "\n",
    "pass"
   ]
  },
  {
   "cell_type": "code",
   "execution_count": 4,
   "metadata": {},
   "outputs": [],
   "source": [
    "\"\"\"\n",
    "Top-down vs Bottom-up Dynamic Programming\n",
    "\n",
    "Top-down:\n",
    "    - Easier to implement.\n",
    "    - Space Complexity: O(n) or more due to recursion stack and memoization.\n",
    "\n",
    "Bottom-up:\n",
    "    - Slightly harder to implement.\n",
    "    - Space Complexity: O(1) or More depending on the problems.\n",
    "        (O(1) when the solution only depends on the last few subproblem results).\n",
    "\n",
    "Resources: \n",
    "    - https://www.geeksforgeeks.org/dynamic-programming/\n",
    "    - https://en.wikipedia.org/wiki/Dynamic_programming\n",
    "\"\"\"\n",
    "\n",
    "pass"
   ]
  },
  {
   "cell_type": "markdown",
   "metadata": {},
   "source": [
    "## Problem Solving"
   ]
  },
  {
   "cell_type": "markdown",
   "metadata": {},
   "source": [
    "### 1.x Find nth fibonacci number\n",
    "Sequence:  0, 1, 1, 2, 3, 5, 8, 13, 21, 34, 55, 89, 144, 233, 377\n",
    "\n",
    "- Traditional Recursive approach\n",
    "- Top down  \n",
    "- Top down (Space optimization)\n",
    "- Bottom up\n",
    "- Bottom up (Space optimization)\n"
   ]
  },
  {
   "cell_type": "markdown",
   "metadata": {},
   "source": [
    "#### 1.0 Traditional recursive approach"
   ]
  },
  {
   "cell_type": "code",
   "execution_count": 5,
   "metadata": {},
   "outputs": [
    {
     "data": {
      "text/plain": [
       "34"
      ]
     },
     "execution_count": 5,
     "metadata": {},
     "output_type": "execute_result"
    }
   ],
   "source": [
    "def fibonacci(n: int) -> int:\n",
    "    \"\"\"\n",
    "    Time: O(2^n)\n",
    "    Space: O(n)\n",
    "    \"\"\"\n",
    "    if n == 1:\n",
    "        return 0\n",
    "    elif n == 2:\n",
    "        return 1\n",
    "\n",
    "    return fibonacci(n - 1) + fibonacci(n - 2)\n",
    "\n",
    "\n",
    "fibonacci(10)"
   ]
  },
  {
   "cell_type": "markdown",
   "metadata": {},
   "source": [
    "#### 1.1 Top down approach"
   ]
  },
  {
   "cell_type": "code",
   "execution_count": 6,
   "metadata": {},
   "outputs": [
    {
     "data": {
      "text/plain": [
       "34"
      ]
     },
     "execution_count": 6,
     "metadata": {},
     "output_type": "execute_result"
    }
   ],
   "source": [
    "def fibonacci_v1(n: int) -> int:\n",
    "    \"\"\"\n",
    "    Time: O(n)\n",
    "    Space: O(n)\n",
    "    \"\"\"\n",
    "\n",
    "    cache = {}\n",
    "\n",
    "    def helper(n: int) -> int:\n",
    "        if n == 1:\n",
    "            return 0\n",
    "        if n == 2:\n",
    "            return 1\n",
    "\n",
    "        # Memoization\n",
    "        if n in cache:\n",
    "            return cache[n]\n",
    "\n",
    "        result = helper(n - 1) + helper(n - 2)\n",
    "        cache[n] = result  # Storing Sub-Problem solution\n",
    "        return result\n",
    "\n",
    "    return helper(n)\n",
    "\n",
    "\n",
    "fibonacci_v1(10)"
   ]
  },
  {
   "cell_type": "markdown",
   "metadata": {},
   "source": [
    "#### 1.2 Top down approach (Optimized)"
   ]
  },
  {
   "cell_type": "code",
   "execution_count": 7,
   "metadata": {},
   "outputs": [
    {
     "data": {
      "text/plain": [
       "34"
      ]
     },
     "execution_count": 7,
     "metadata": {},
     "output_type": "execute_result"
    }
   ],
   "source": [
    "def fibonacci_v2(n: int, a=0, b=1) -> int:\n",
    "    \"\"\"\n",
    "    Time: O(n)\n",
    "    Space: O(n)  # Since python don't support TOC But remove unnecessary memoization\n",
    "    \"\"\"\n",
    "    if n == 1:\n",
    "        return a\n",
    "\n",
    "    return fibonacci_v2(n - 1, b, a + b)\n",
    "\n",
    "\n",
    "fibonacci_v2(10)"
   ]
  },
  {
   "cell_type": "markdown",
   "metadata": {},
   "source": [
    "#### 1.3 Bottom-Up approach"
   ]
  },
  {
   "cell_type": "code",
   "execution_count": 8,
   "metadata": {},
   "outputs": [
    {
     "data": {
      "text/plain": [
       "34"
      ]
     },
     "execution_count": 8,
     "metadata": {},
     "output_type": "execute_result"
    }
   ],
   "source": [
    "def fibonacci_v3(n: int) -> int:\n",
    "    \"\"\"\n",
    "    Time: O(n)\n",
    "    Space: O(n)\n",
    "    \"\"\"\n",
    "    if n <= 1:\n",
    "        return n\n",
    "\n",
    "    fib_cache = [0, 1] + [-1] * (n - 2)\n",
    "\n",
    "    for i in range(2, n):  # start from 2\n",
    "        fib_cache[i] = fib_cache[i - 1] + fib_cache[i - 2]\n",
    "\n",
    "    return fib_cache[-1]\n",
    "\n",
    "\n",
    "fibonacci_v3(10)"
   ]
  },
  {
   "cell_type": "markdown",
   "metadata": {},
   "source": [
    "#### 1.4 Bottom-Up (Optimized)"
   ]
  },
  {
   "cell_type": "code",
   "execution_count": 9,
   "metadata": {},
   "outputs": [
    {
     "data": {
      "text/plain": [
       "34"
      ]
     },
     "execution_count": 9,
     "metadata": {},
     "output_type": "execute_result"
    }
   ],
   "source": [
    "def fibonacci_v4(n: int) -> int:\n",
    "    \"\"\"\n",
    "    Time: O(n)\n",
    "    Space: O(1)\n",
    "    \"\"\"\n",
    "\n",
    "    if n <= 1:\n",
    "        return n\n",
    "\n",
    "    first = 0\n",
    "    second = 1\n",
    "    for _ in range(2, n):\n",
    "        next = first + second\n",
    "        first = second\n",
    "        second = next\n",
    "\n",
    "    return second\n",
    "\n",
    "\n",
    "fibonacci_v4(10)"
   ]
  },
  {
   "cell_type": "markdown",
   "metadata": {},
   "source": [
    "### 2. Climbing Stairs \n",
    "You are climbing a staircase. It takes n steps to reach the top.\n",
    "Each time you can either climb 1 or 2 steps. In how many distinct ways can you climb to the top? \n",
    "\n",
    "[leetCode](https://leetcode.com/problems/climbing-stairs/)"
   ]
  },
  {
   "cell_type": "code",
   "execution_count": 10,
   "metadata": {},
   "outputs": [
    {
     "data": {
      "text/plain": [
       "5"
      ]
     },
     "execution_count": 10,
     "metadata": {},
     "output_type": "execute_result"
    }
   ],
   "source": [
    "memo = {}\n",
    "\n",
    "\n",
    "def climbing_stairs(n: int) -> int:\n",
    "    if n == 0:\n",
    "        return 1\n",
    "    if n < 0:\n",
    "        return 0\n",
    "\n",
    "    if n in memo:\n",
    "        return memo[n]\n",
    "\n",
    "    one_step = climbing_stairs(n - 1)\n",
    "    two_step = climbing_stairs(n - 2)\n",
    "\n",
    "    total = one_step + two_step\n",
    "    memo[n] = total\n",
    "\n",
    "    return total\n",
    "\n",
    "\n",
    "climbing_stairs(4)"
   ]
  },
  {
   "cell_type": "markdown",
   "metadata": {},
   "source": [
    "### 3. Coin change \n",
    "You are given coins of  1, 7,  10, 25. The goal is to make a given amount using the minimum number of coins."
   ]
  },
  {
   "cell_type": "code",
   "execution_count": 11,
   "metadata": {},
   "outputs": [
    {
     "data": {
      "text/plain": [
       "3"
      ]
     },
     "execution_count": 11,
     "metadata": {},
     "output_type": "execute_result"
    }
   ],
   "source": [
    "memo = {}\n",
    "\n",
    "\n",
    "def coin_change(amount: int, coins: list[int]) -> int:\n",
    "    if amount == 0:\n",
    "        return 0\n",
    "    if amount in memo:\n",
    "        return memo[amount]\n",
    "\n",
    "    result = float(\"inf\")\n",
    "\n",
    "    for coin in coins:\n",
    "        if amount >= coin:\n",
    "            count = 1 + coin_change(amount - coin, coins)\n",
    "            result = min(count, result)\n",
    "\n",
    "    memo[amount] = result\n",
    "    return result\n",
    "\n",
    "\n",
    "coin_change(30, [1, 6, 10, 25])"
   ]
  }
 ],
 "metadata": {
  "kernelspec": {
   "display_name": ".venv",
   "language": "python",
   "name": "python3"
  },
  "language_info": {
   "codemirror_mode": {
    "name": "ipython",
    "version": 3
   },
   "file_extension": ".py",
   "mimetype": "text/x-python",
   "name": "python",
   "nbconvert_exporter": "python",
   "pygments_lexer": "ipython3",
   "version": "3.10.12"
  }
 },
 "nbformat": 4,
 "nbformat_minor": 2
}
