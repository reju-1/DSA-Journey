{
 "cells": [
  {
   "cell_type": "markdown",
   "id": "8cebca48",
   "metadata": {},
   "source": [
    "## Operators"
   ]
  },
  {
   "cell_type": "markdown",
   "id": "a2f679cf",
   "metadata": {},
   "source": [
    "Python has only **6 bitwise operators**: AND, OR, XOR, NOT, LEFT-SHIFT, RIGHT-SHIFT\n",
    "\n",
    "We can combine these operators with assignment like `&=`, `<<=` but **not** the `~` since it's unary.\n",
    "\n",
    "**Note:** Python bitwise operators work only on integers.\n",
    "\n",
    "![Diagram showing Python bitwise operators](../docs/images/python-bitwise-operators.png)"
   ]
  },
  {
   "cell_type": "markdown",
   "id": "a15cf07f",
   "metadata": {},
   "source": [
    "## Common functions"
   ]
  },
  {
   "cell_type": "markdown",
   "id": "4fe49f94",
   "metadata": {},
   "source": [
    "### Number Base Conversions\n",
    "**bin(n)** - Convert integer to binary string (e.g., bin(5) → '0b101')  \n",
    "**hex(n)** - Convert integer to hexadecimal string    \n",
    "**oct(n)** - Convert integer to octal string    \n",
    "**int(string, base)** - Convert string from any base to integer     \n",
    "\n",
    "### Integer Methods\n",
    "**.bit_length()** - Number of bits needed to represent the integer (excluding sign)      \n",
    "**.bit_count()** - Count of 1-bits in binary representation (Python 3.10+)    "
   ]
  },
  {
   "cell_type": "markdown",
   "id": "c1434426",
   "metadata": {},
   "source": [
    "## Computer arithmetic performance characteristics"
   ]
  },
  {
   "cell_type": "code",
   "execution_count": 1,
   "id": "45757746",
   "metadata": {},
   "outputs": [],
   "source": [
    "\"\"\"\n",
    "Fast operations (1-2 CPU cycles):\n",
    "    - Addition and subtraction (using 2's complement arithmetic)\n",
    "    - Bitwise operations: AND, OR, NOT, XOR, shifts\n",
    "    - Comparisons and logical operations\n",
    "\n",
    "Slower operations (multiple cycles):\n",
    "    - Division and modular operations (10-100+ cycles)\n",
    "    - Multiplication (1-3 cycles on modern CPUs, but historically much slower)\n",
    "    - Floating-point operations (especially division and square root)\n",
    "    - Transcendental functions (e.g., exp, log, sin, cos, etc.) 100+ cycles\n",
    "\n",
    "Note:\n",
    "    - Memory is the real bottleneck: RAM access takes ~100-300 cycles vs 1-3 for arithmetic.\n",
    "    - Division/modulus are costly: compilers optimize / and % (power of 2 → shift/mask).\n",
    "    - Latency vs throughput: an op may take 10 cycles, but pipelining allows 1 per cycle issue.\n",
    "\"\"\"\n",
    "\n",
    "pass"
   ]
  },
  {
   "cell_type": "markdown",
   "id": "98bb3361",
   "metadata": {},
   "source": [
    "## 1. AND"
   ]
  },
  {
   "cell_type": "code",
   "execution_count": 2,
   "id": "9bb7bb03",
   "metadata": {},
   "outputs": [],
   "source": [
    "\"\"\"\n",
    "**Truth table**\n",
    "+-------------+\n",
    "|  0   0  = 0 |\n",
    "|  0   1  = 0 |\n",
    "|  1   0  = 0 |\n",
    "|  1   1  = 1 |\n",
    "+-------------+\n",
    "\n",
    "Common Use Cases:\n",
    "1. Extract or isolate specific bits.\n",
    "2. Flag Checking\n",
    "    Example: Store multiple boolean flags in one integer\n",
    "        read=1, write=2, execute=4\n",
    "        permissions = 5 (0b101 = read + execute)\n",
    "        permissions & 2 → 0 → write not allowed\n",
    "        permissions & 1 → 1 → read allowed\n",
    "\n",
    "3. Combining Masks\n",
    "    Example: Select multiple bits using a mask\n",
    "        mask = 0b1100, n = 13 (0b1101)\n",
    "        n & mask = 0b1100 → keeps only bits at positions 2-3\n",
    "\"\"\"\n",
    "\n",
    "pass"
   ]
  },
  {
   "cell_type": "markdown",
   "id": "a1d56e2a",
   "metadata": {},
   "source": [
    "### 1.1 Even-Odd number check"
   ]
  },
  {
   "cell_type": "code",
   "execution_count": 3,
   "id": "72ffb8a9",
   "metadata": {},
   "outputs": [
    {
     "name": "stdout",
     "output_type": "stream",
     "text": [
      "12 is Even\n",
      "15 is Odd\n"
     ]
    }
   ],
   "source": [
    "def even_odd(n: int):\n",
    "    \"\"\"\n",
    "    Determine whether a number is even or odd using its Least Significant Bit (LSB).\n",
    "\n",
    "    Logic:\n",
    "        - If the LSB is 0 → the number is Even.\n",
    "        - If the LSB is 1 → the number is Odd.\n",
    "        - LSB can be checked using: n & 1\n",
    "\n",
    "    Example:\n",
    "        case 1: n = 12\n",
    "            12  =>  1100\n",
    "            1   =>  0001\n",
    "            -------------\n",
    "            0   => 0000 → Even\n",
    "\n",
    "        case 2: n = 9\n",
    "            9   =>  1001\n",
    "            1   =>  0001\n",
    "            -------------\n",
    "            1   => 0001 → Odd\n",
    "    \"\"\"\n",
    "    if n & 1:  # n % 2 != 0\n",
    "        print(f\"{n} is Odd\")\n",
    "    else:\n",
    "        print(f\"{n} is Even\")\n",
    "\n",
    "\n",
    "even_odd(12)\n",
    "even_odd(15)"
   ]
  },
  {
   "cell_type": "markdown",
   "id": "ce60f021",
   "metadata": {},
   "source": [
    "### 1.2 Check if a Number is a Power of 2"
   ]
  },
  {
   "cell_type": "code",
   "execution_count": 4,
   "id": "7586f348",
   "metadata": {},
   "outputs": [
    {
     "data": {
      "text/plain": [
       "True"
      ]
     },
     "execution_count": 4,
     "metadata": {},
     "output_type": "execute_result"
    }
   ],
   "source": [
    "def is_power_of_two(n: int) -> bool:\n",
    "    \"\"\"\n",
    "    Check if a number is a power of two using bitwise AND.\n",
    "\n",
    "    Logic:\n",
    "        If n & (n - 1) == 0, then n is a power of 2.\n",
    "\n",
    "    Example:\n",
    "        Case 1: n = 8\n",
    "            8  => 1000\n",
    "            7  => 0111\n",
    "            ------------\n",
    "            8&7 => 0000  → Power of 2 ✅\n",
    "\n",
    "        Case 2: n = 10\n",
    "            10 => 1010\n",
    "            9  => 1001\n",
    "            ------------\n",
    "            10&9 => 1000 → (Non-Zero) Not power of 2 ❌\n",
    "\n",
    "    Note:\n",
    "        Edge case: n <= 0 is not a power of 2.\n",
    "    \"\"\"\n",
    "\n",
    "    if n <= 0:\n",
    "        return False\n",
    "    else:\n",
    "        return n & (n - 1) == 0\n",
    "\n",
    "\n",
    "is_power_of_two(16)"
   ]
  },
  {
   "cell_type": "markdown",
   "id": "7b5ff79f",
   "metadata": {},
   "source": [
    "## 2. OR"
   ]
  },
  {
   "cell_type": "code",
   "execution_count": null,
   "id": "ce494404",
   "metadata": {},
   "outputs": [],
   "source": []
  },
  {
   "cell_type": "markdown",
   "id": "0690c88a",
   "metadata": {},
   "source": [
    "## 3. XOR"
   ]
  },
  {
   "cell_type": "code",
   "execution_count": 5,
   "id": "c1132dc1",
   "metadata": {},
   "outputs": [],
   "source": [
    "\"\"\"\n",
    "**Truth table**\n",
    "+-------------+\n",
    "|  0   0  = 0 |\n",
    "|  0   1  = 1 |\n",
    "|  1   0  = 1 |\n",
    "|  1   1  = 0 |\n",
    "+-------------+\n",
    "\n",
    "Bits are Same      => 0\n",
    "Bits are Different => 1\n",
    "\n",
    "\n",
    "XOR (Exclusive OR) Properties\n",
    "-----------------------------\n",
    "\n",
    "1. Identity Property:\n",
    "   a ^ 0 = a\n",
    "   Explanation: XOR with 0 leaves the number unchanged.\n",
    "\n",
    "2. Self-Inverse Property:\n",
    "   a ^ a = 0\n",
    "   Explanation: Any number XOR with itself is always 0.\n",
    "\n",
    "3. Commutative Property:\n",
    "   a ^ b = b ^ a\n",
    "   Explanation: The order of operands does not matter.\n",
    "\n",
    "4. Associative Property:\n",
    "   (a ^ b) ^ c = a ^ (b ^ c)\n",
    "   Explanation: Grouping of operands does not affect the result.\n",
    "\n",
    "5. Inverse Property (based on self-inverse):\n",
    "   If a ^ b = c, then a = b ^ c and b = a ^ c\n",
    "   Explanation: XOR can be used to \"undo\" itself.\n",
    "\n",
    "6. Zero Result Property:\n",
    "   If a ^ b = 0, then a = b\n",
    "   Explanation: XOR of two equal numbers is always zero.\n",
    "\n",
    "7. Toggle Property:\n",
    "   a ^ 1 flips the least significant bit (LSB) of a\n",
    "   Explanation: XOR with 1 toggles bits, useful for bit-flipping.\n",
    "\n",
    "8. Bit Count:\n",
    "   XOR does not carry bits (unlike addition).\n",
    "   Explanation: It only sets bits where inputs differ.\n",
    "\n",
    "9. XOR of all numbers from 1 to n:\n",
    "   1 ^ 2 ^ 3 ^ ... ^ n = pattern based on n % 4\n",
    "   Explanation: Used in mathematical and algorithmic optimizations.\n",
    "\n",
    "\"\"\"\n",
    "\n",
    "pass"
   ]
  },
  {
   "cell_type": "markdown",
   "id": "0fe8cda0",
   "metadata": {},
   "source": [
    "### 3.1 swap variables "
   ]
  },
  {
   "cell_type": "code",
   "execution_count": 6,
   "id": "3a60948e",
   "metadata": {},
   "outputs": [
    {
     "name": "stdout",
     "output_type": "stream",
     "text": [
      "Before a=10  b=20\n",
      "After  a=20  b=10\n"
     ]
    }
   ],
   "source": [
    "a, b = 10, 20\n",
    "print(f\"Before {a=}  {b=}\")\n",
    "a = a ^ b\n",
    "b = a ^ b  # (a^b)^b => a^0 => a\n",
    "a = a ^ b  # (a^b)^a => b^0 => b\n",
    "print(f\"After  {a=}  {b=}\")"
   ]
  },
  {
   "cell_type": "markdown",
   "id": "39ba509c",
   "metadata": {},
   "source": [
    "### 3.2 Find the Single Number\n",
    "Given an array of integers, every element appears twice except for one. Find that single one."
   ]
  },
  {
   "cell_type": "code",
   "execution_count": 7,
   "id": "4d477ed9",
   "metadata": {},
   "outputs": [
    {
     "data": {
      "text/plain": [
       "4"
      ]
     },
     "execution_count": 7,
     "metadata": {},
     "output_type": "execute_result"
    }
   ],
   "source": [
    "def single_number(nums: list) -> int:\n",
    "    answer = 0\n",
    "    for n in nums:\n",
    "        answer ^= n\n",
    "    return answer\n",
    "\n",
    "\n",
    "single_number([4, 1, 2, 1, 2])  # Output: 4"
   ]
  },
  {
   "cell_type": "markdown",
   "id": "28400484",
   "metadata": {},
   "source": [
    "## 4. NOT"
   ]
  },
  {
   "cell_type": "code",
   "execution_count": null,
   "id": "0b5c209c",
   "metadata": {},
   "outputs": [],
   "source": []
  },
  {
   "cell_type": "markdown",
   "id": "5fe2682b",
   "metadata": {},
   "source": [
    "## 5. Left Shift"
   ]
  },
  {
   "cell_type": "code",
   "execution_count": null,
   "id": "596e0864",
   "metadata": {},
   "outputs": [],
   "source": []
  },
  {
   "cell_type": "markdown",
   "id": "9f4bb43e",
   "metadata": {},
   "source": [
    "## 6. Right Shift"
   ]
  },
  {
   "cell_type": "code",
   "execution_count": null,
   "id": "73b5f97f",
   "metadata": {},
   "outputs": [],
   "source": []
  }
 ],
 "metadata": {
  "kernelspec": {
   "display_name": ".venv",
   "language": "python",
   "name": "python3"
  },
  "language_info": {
   "codemirror_mode": {
    "name": "ipython",
    "version": 3
   },
   "file_extension": ".py",
   "mimetype": "text/x-python",
   "name": "python",
   "nbconvert_exporter": "python",
   "pygments_lexer": "ipython3",
   "version": "3.10.12"
  }
 },
 "nbformat": 4,
 "nbformat_minor": 5
}
