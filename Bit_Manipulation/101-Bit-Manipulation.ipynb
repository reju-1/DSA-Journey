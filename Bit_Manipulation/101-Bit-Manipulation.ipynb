{
 "cells": [
  {
   "cell_type": "markdown",
   "id": "8cebca48",
   "metadata": {},
   "source": [
    "## Operators"
   ]
  },
  {
   "cell_type": "markdown",
   "id": "a2f679cf",
   "metadata": {},
   "source": [
    "Python has only **6 bitwise operators**: AND, OR, XOR, NOT, LEFT-SHIFT, RIGHT-SHIFT\n",
    "\n",
    "We can combine these operators with assignment like `&=`, `<<=` but **not** the `~` since it's unary.\n",
    "\n",
    "**Note:** Python bitwise operators work only on integers.\n",
    "\n",
    "![Diagram showing Python bitwise operators](../docs/images/python-bitwise-operators.png)"
   ]
  },
  {
   "cell_type": "markdown",
   "id": "a15cf07f",
   "metadata": {},
   "source": [
    "## Common functions"
   ]
  },
  {
   "cell_type": "markdown",
   "id": "4fe49f94",
   "metadata": {},
   "source": [
    "### Number Base Conversions\n",
    "**bin(n)** - Convert integer to binary string (e.g., bin(5) → '0b101')  \n",
    "**hex(n)** - Convert integer to hexadecimal string    \n",
    "**oct(n)** - Convert integer to octal string    \n",
    "**int(string, base)** - Convert string from any base to integer     \n",
    "\n",
    "### Integer Methods\n",
    "**.bit_length()** - Number of bits needed to represent the integer (excluding sign)      \n",
    "**.bit_count()** - Count of 1-bits in binary representation (Python 3.10+)    "
   ]
  },
  {
   "cell_type": "markdown",
   "id": "9aa275c3",
   "metadata": {},
   "source": [
    "## Common Bitwise Tricks & Techniques"
   ]
  },
  {
   "cell_type": "code",
   "execution_count": null,
   "id": "3a60948e",
   "metadata": {},
   "outputs": [],
   "source": []
  }
 ],
 "metadata": {
  "kernelspec": {
   "display_name": ".venv",
   "language": "python",
   "name": "python3"
  },
  "language_info": {
   "codemirror_mode": {
    "name": "ipython",
    "version": 3
   },
   "file_extension": ".py",
   "mimetype": "text/x-python",
   "name": "python",
   "nbconvert_exporter": "python",
   "pygments_lexer": "ipython3",
   "version": "3.10.12"
  }
 },
 "nbformat": 4,
 "nbformat_minor": 5
}
