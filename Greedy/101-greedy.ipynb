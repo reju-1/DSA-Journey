{
 "cells": [
  {
   "cell_type": "markdown",
   "metadata": {},
   "source": [
    "### Theory "
   ]
  },
  {
   "cell_type": "code",
   "execution_count": 1,
   "metadata": {},
   "outputs": [],
   "source": [
    "\"\"\"\n",
    "The Greedy Algorithmic Paradigm is a method used for solving optimization problems.\n",
    "\n",
    "Optimization can involve:\n",
    "    - Minimization: Reducing loss, cost, or other undesired factors.\n",
    "    - Maximization: Increasing profit, value, or other desired factors.\n",
    "\n",
    "In essence, optimization refers to the process of minimizing losses or maximizing gains\n",
    "to achieve the best possible outcome.\n",
    "\n",
    "There are several ways to soling Optimization problem like:\n",
    "    - Dynamic programming\n",
    "    - Branch and Bound\n",
    "    - Gradient Descent\n",
    "    - Linear Programming\n",
    "\"\"\"\n",
    "\n",
    "pass"
   ]
  },
  {
   "cell_type": "code",
   "execution_count": 2,
   "metadata": {},
   "outputs": [],
   "source": [
    "\"\"\"\n",
    "What is Greedy method or approach?\n",
    "    The Greedy method or approach is a problem-solving technique where decisions are \n",
    "    made by selecting the best possible choice at each step, aiming for an optimal overall solution. \n",
    "    It focuses on making locally optimal choices with the assumption that these lead to a globally \n",
    "    optimal result. However, the greedy strategy does not always guarantee the best solution and may yield \n",
    "    suboptimal outcomes in some cases.\n",
    "\n",
    "\n",
    "Pros and Cons of Greedy approach:\n",
    "    Pros: Simple, fast, and easy to implement.\n",
    "    Cons: May not always provide the best solution for all problems.\n",
    "\n",
    "Note: \n",
    "    Some greedy approaches guarantee an optimal solution, while others may not.\n",
    "    Example (always optimal):\n",
    "        - Fractional Knapsack\n",
    "        - Activity Selection\n",
    "        - Job Scheduling\n",
    "\"\"\"\n",
    "\n",
    "pass"
   ]
  },
  {
   "cell_type": "code",
   "execution_count": 3,
   "metadata": {},
   "outputs": [],
   "source": [
    "\"\"\"\n",
    "Popular algorithms based on the Greedy approach include:\n",
    "    - Huffman Coding: Constructs an optimal prefix code for data compression.\n",
    "    - Kruskal's Algorithm: Finds the Minimum Spanning Tree of a graph by adding edges with the least weight.\n",
    "    - Prim's Algorithm: Builds the Minimum Spanning Tree by growing a single tree, adding the smallest edge that connects to the tree.\n",
    "    - Dijkstra's Algorithm: Finds the shortest path from a source node to all other nodes in a weighted graph.\n",
    "    - \n",
    "\"\"\"\n",
    "\n",
    "pass"
   ]
  },
  {
   "cell_type": "code",
   "execution_count": 4,
   "metadata": {},
   "outputs": [],
   "source": [
    "\"\"\" \n",
    "links:\n",
    "    - Greedy-intro: https://www.youtube.com/watch?v=ARvQcqJ_-NY\n",
    "    - https://stackoverflow.com/questions/6162465/divide-and-conquer-dynamic-programming-and-greedy-algorithms\n",
    "    - \n",
    "\"\"\"\n",
    "\n",
    "pass"
   ]
  },
  {
   "cell_type": "markdown",
   "metadata": {},
   "source": [
    "### Activity selection"
   ]
  },
  {
   "cell_type": "code",
   "execution_count": null,
   "metadata": {},
   "outputs": [],
   "source": []
  },
  {
   "cell_type": "markdown",
   "metadata": {},
   "source": [
    "### Knapsack"
   ]
  },
  {
   "cell_type": "code",
   "execution_count": 5,
   "metadata": {},
   "outputs": [],
   "source": [
    "\"\"\"\n",
    "What is Knapsack problem?\n",
    "    The Knapsack Problem involves selecting items to maximize their value, \n",
    "    while staying within a weight limit.\n",
    "\n",
    "Types of Knapsack Problems:\n",
    "    - 0/1 Knapsack: Items are either included or excluded, may not yield an optimal solution.\n",
    "    - Fractional Knapsack: Items can be broken into fractions, always provides an optimal solution.\n",
    "\n",
    "\"\"\"\n",
    "\n",
    "pass"
   ]
  },
  {
   "cell_type": "code",
   "execution_count": null,
   "metadata": {},
   "outputs": [],
   "source": []
  },
  {
   "cell_type": "markdown",
   "metadata": {},
   "source": [
    "### Job Scheduling Problems"
   ]
  },
  {
   "cell_type": "code",
   "execution_count": null,
   "metadata": {},
   "outputs": [],
   "source": []
  }
 ],
 "metadata": {
  "kernelspec": {
   "display_name": ".venv",
   "language": "python",
   "name": "python3"
  },
  "language_info": {
   "codemirror_mode": {
    "name": "ipython",
    "version": 3
   },
   "file_extension": ".py",
   "mimetype": "text/x-python",
   "name": "python",
   "nbconvert_exporter": "python",
   "pygments_lexer": "ipython3",
   "version": "3.10.12"
  }
 },
 "nbformat": 4,
 "nbformat_minor": 2
}
