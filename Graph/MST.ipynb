{
 "cells": [
  {
   "cell_type": "markdown",
   "metadata": {},
   "source": [
    "### Theory: Minimum Spanning Tree (MST)"
   ]
  },
  {
   "cell_type": "code",
   "execution_count": 1,
   "metadata": {},
   "outputs": [],
   "source": [
    "\"\"\"\n",
    "Spanning Tree:\n",
    "    A spanning tree is a subgraph of a graph G that:\n",
    "    - Connects all vertices using the minimum number of edges.\n",
    "    - Contains all vertices (V) and exactly V-1 edges (as N vertices require N-1 edges to connect).\n",
    "    - Is cycle-free (as it is a tree).\n",
    "\n",
    "Minimum Spanning Tree (MST):\n",
    "    A spanning tree with the minimum total edge weight is called a Minimum Spanning Tree (MST).\n",
    "\n",
    "Characteristics of MST:\n",
    "    - Includes all vertices (V) in the graph.\n",
    "    - Contains exactly V-1 edges.\n",
    "    - Is cycle-free (a tree).\n",
    "    - Works only on undirected graphs.\n",
    "    - Exists only for connected graphs.\n",
    "    - May have multiple MSTs if edge weights are not unique.\n",
    "\n",
    "\"\"\"\n",
    "\n",
    "pass"
   ]
  },
  {
   "cell_type": "code",
   "execution_count": 2,
   "metadata": {},
   "outputs": [],
   "source": [
    "\"\"\"\n",
    "Use case of MST:\n",
    "    - Network Design: Used to design cost-efficient networks like computer networks, telecommunication networks, and power grids.\n",
    "    - Transportation Systems: Helps optimize road, rail, or pipeline networks to minimize construction costs.\n",
    "    - Clustering in Machine Learning: Used in hierarchical clustering to group data points based on minimum distance.\n",
    "    - Circuit Design: Assists in routing wires on circuit boards to minimize material usage and signal delay.\n",
    "\n",
    "    reference: https://www.geeksforgeeks.org/applications-of-minimum-spanning-tree/\n",
    "\n",
    "\n",
    "Constructed using:\n",
    "    - Kruskal's algorithm.\n",
    "    - Prim's algorithm.\n",
    "    - Boruvka's algorithm.\n",
    "\"\"\"\n",
    "\n",
    "pass"
   ]
  },
  {
   "cell_type": "markdown",
   "metadata": {},
   "source": [
    "### Kruskal's algorithm."
   ]
  },
  {
   "cell_type": "code",
   "execution_count": 3,
   "metadata": {},
   "outputs": [],
   "source": [
    "\"\"\"\n",
    "Kruskal's algorithm:\n",
    "    - Starts by sorting all edges in the graph by weight.\n",
    "    - Uses a disjoint-set (Union-Find) data structure to manage connected components.\n",
    "    - Iteratively adds the smallest edge to the Minimum Spanning Tree (MST) if it doesn't form a cycle.\n",
    "\n",
    "links:\n",
    "    - https://www.youtube.com/watch?v=71UQH7Pr9kU\n",
    "    - \n",
    "\"\"\"\n",
    "\n",
    "pass"
   ]
  },
  {
   "cell_type": "code",
   "execution_count": 4,
   "metadata": {},
   "outputs": [],
   "source": [
    "class DisjointSet:\n",
    "    \"\"\"Naive implementation of DSU. Visit Disjoint-set-data-structure.ipynb\"\"\"\n",
    "\n",
    "    def __init__(self):\n",
    "        self.parent = {}\n",
    "\n",
    "    def make_set(self, x) -> None:\n",
    "        if x not in self.parent:\n",
    "            self.parent[x] = x  # Each element is its own parent initially\n",
    "\n",
    "    def find(self, x):\n",
    "        if x == self.parent[x]:\n",
    "            return x\n",
    "\n",
    "        return self.find(self.parent[x])\n",
    "\n",
    "    def union(self, x, y) -> None:\n",
    "        root_x = self.find(x)\n",
    "        root_y = self.find(y)\n",
    "\n",
    "        if root_x != root_y:\n",
    "            self.parent[root_y] = root_x"
   ]
  },
  {
   "cell_type": "code",
   "execution_count": 5,
   "metadata": {},
   "outputs": [],
   "source": [
    "def kruskal_MST(edges: list[tuple]):\n",
    "\n",
    "    # Sorting\n",
    "    edges.sort(key=lambda x: x[2])\n",
    "\n",
    "    # Disjoint set initialization\n",
    "    dsu = DisjointSet()\n",
    "    for edge in edges:\n",
    "        dsu.make_set(edge[0])\n",
    "        dsu.make_set(edge[1])\n",
    "\n",
    "    mst = []\n",
    "\n",
    "    # Taking edges that don't form cycle\n",
    "    for edge in edges:\n",
    "        root1 = dsu.find(edge[0])\n",
    "        root2 = dsu.find(edge[1])\n",
    "\n",
    "        if root1 == root2:\n",
    "            # If two vertices are in the same set, taking them will create a cycle.\n",
    "            continue\n",
    "        else:\n",
    "            mst.append(edge)\n",
    "            dsu.union(edge[0], edge[1])\n",
    "\n",
    "    return mst"
   ]
  },
  {
   "cell_type": "code",
   "execution_count": 6,
   "metadata": {},
   "outputs": [
    {
     "name": "stdout",
     "output_type": "stream",
     "text": [
      "[A]----1-----[B]\n",
      "[C]----2-----[D]\n",
      "[A]----3-----[C]\n",
      "[C]----6-----[E]\n",
      "cost: 12\n"
     ]
    }
   ],
   "source": [
    "g2_edges = [\n",
    "    (\"A\", \"B\", 1),\n",
    "    (\"C\", \"D\", 2),\n",
    "    (\"A\", \"C\", 3),\n",
    "    (\"B\", \"C\", 3),\n",
    "    (\"B\", \"D\", 4),\n",
    "    (\"C\", \"E\", 6),\n",
    "    (\"D\", \"E\", 8),\n",
    "]\n",
    "\n",
    "result = kruskal_MST(g2_edges)\n",
    "\n",
    "for row in result:\n",
    "    print(f\"[{row[0]}]----{row[2]}-----[{row[1]}]\")\n",
    "\n",
    "print(f\"cost: {sum(x[2] for x in result)}\")"
   ]
  },
  {
   "cell_type": "markdown",
   "metadata": {},
   "source": [
    "### Prim's algorithm."
   ]
  },
  {
   "cell_type": "code",
   "execution_count": 7,
   "metadata": {},
   "outputs": [],
   "source": [
    "\"\"\"\n",
    "Prim's Algorithm:\n",
    "    - Starts from an arbitrary vertex and uses a min-heap to track edges by weight.\n",
    "    - Repeatedly adds the smallest edge to the Minimum Spanning Tree (MST) that connects visited and unvisited vertices.\n",
    "    - Ensures no cycles by maintaining a `visited` set.\n",
    "    - Stops when all vertices are included in the MST.\n",
    "\n",
    "link:\n",
    "    - https://www.youtube.com/watch?v=mJcZjjKzeqk\n",
    "    - \n",
    "\"\"\"\n",
    "\n",
    "pass"
   ]
  },
  {
   "cell_type": "code",
   "execution_count": 8,
   "metadata": {},
   "outputs": [],
   "source": [
    "import heapq\n",
    "\n",
    "\n",
    "def prims_algorithm(graph, start):\n",
    "    mst = []\n",
    "\n",
    "    min_heap = [(0, start, None)]  # (weight, current_node, parent_node)\n",
    "    visited = set()\n",
    "\n",
    "    while min_heap:\n",
    "        weight, current_node, parent_node = heapq.heappop(min_heap)\n",
    "\n",
    "        if current_node in visited:\n",
    "            continue\n",
    "\n",
    "        # Mark the current node as visited\n",
    "        visited.add(current_node)\n",
    "\n",
    "        # If there is a valid parent node, add the edge to the MST\n",
    "        if parent_node is not None:\n",
    "            mst.append((parent_node, current_node, weight))\n",
    "\n",
    "        # Push all edges of the current node to the priority queue\n",
    "        for neighbor, edge_weight in graph[current_node]:\n",
    "            if neighbor not in visited:\n",
    "                heapq.heappush(min_heap, (edge_weight, neighbor, current_node))\n",
    "\n",
    "    return mst"
   ]
  },
  {
   "cell_type": "code",
   "execution_count": 9,
   "metadata": {},
   "outputs": [
    {
     "name": "stdout",
     "output_type": "stream",
     "text": [
      "[A]----1----[D]\n",
      "[D]----2----[B]\n",
      "[D]----4----[C]\n",
      "Total Cost: 7\n"
     ]
    }
   ],
   "source": [
    "# Adjacency List Representation\n",
    "graph = {\n",
    "    \"A\": [(\"D\", 1)],\n",
    "    \"B\": [(\"C\", 7), (\"D\", 2)],\n",
    "    \"C\": [(\"B\", 7), (\"D\", 4)],\n",
    "    \"D\": [(\"A\", 1), (\"B\", 2), (\"C\", 4)],\n",
    "}\n",
    "\n",
    "mst = prims_algorithm(graph, start=\"A\")\n",
    "\n",
    "for edge in mst:\n",
    "    print(f\"[{edge[0]}]----{edge[2]}----[{edge[1]}]\")\n",
    "print(f\"Total Cost: {sum(e[2] for e in mst)}\")"
   ]
  },
  {
   "cell_type": "markdown",
   "metadata": {},
   "source": [
    "### Prim's vs kruskal algorithm"
   ]
  },
  {
   "cell_type": "code",
   "execution_count": 10,
   "metadata": {},
   "outputs": [],
   "source": [
    "\"\"\"\n",
    "Kruskal's vs Prim's MST:\n",
    "- Kruskal's Algorithm:\n",
    "    - Uses a Disjoint-Set Union (DSU) to manage the connected components.\n",
    "    - Works by sorting all edges in the graph and adding them one by one to the MST if they don't form a cycle.\n",
    "    - Best for sparse graphs where edges are fewer compared to vertices.\n",
    "\n",
    "- Prim's Algorithm:\n",
    "    - Uses a priority queue (min-heap) to select the smallest edge connecting a visited vertex to an unvisited one.\n",
    "    - Grows the MST from a single starting vertex, adding one vertex at a time.\n",
    "    - Best for dense graphs with many edges.\n",
    "\n",
    "\n",
    "Time and Space Complexity:\n",
    "- Kruskal's:\n",
    "    - Time Complexity: O(E log E) or O(E log V) (due to edge sorting and union-find operations).\n",
    "    - Space Complexity: O(V + E) (for storing the graph and the disjoint-set structure).\n",
    "- Prim's:\n",
    "    - Time Complexity: O(E log V) (using a priority queue to manage edges).\n",
    "    - Space Complexity: O(V + E) (for storing the graph and priority queue).\n",
    "\n",
    "\n",
    "Pros and Cons:\n",
    "- Kruskal's:\n",
    "    - Pros: Simpler to implement, efficient for sparse graphs.\n",
    "    - Cons: Slower on dense graphs due to sorting of edges.\n",
    "- Prim's:\n",
    "    - Pros: More efficient for dense graphs, works well with adjacency lists.\n",
    "    - Cons: More complex implementation compared to Kruskal's, slower on sparse graphs.\n",
    "\n",
    "links: \n",
    "    - https://stackoverflow.com/questions/53475447/understanding-when-to-use-prim-or-kruskal-for-minimum-spanning-tree\n",
    "    - https://stackoverflow.com/questions/1195872/when-should-i-use-kruskal-as-opposed-to-prim-and-vice-versa\n",
    "\n",
    "\"\"\"\n",
    "\n",
    "pass"
   ]
  },
  {
   "cell_type": "markdown",
   "metadata": {},
   "source": [
    "### MST vs. SSP"
   ]
  },
  {
   "cell_type": "code",
   "execution_count": null,
   "metadata": {},
   "outputs": [],
   "source": []
  }
 ],
 "metadata": {
  "kernelspec": {
   "display_name": ".venv",
   "language": "python",
   "name": "python3"
  },
  "language_info": {
   "codemirror_mode": {
    "name": "ipython",
    "version": 3
   },
   "file_extension": ".py",
   "mimetype": "text/x-python",
   "name": "python",
   "nbconvert_exporter": "python",
   "pygments_lexer": "ipython3",
   "version": "3.10.12"
  }
 },
 "nbformat": 4,
 "nbformat_minor": 2
}
